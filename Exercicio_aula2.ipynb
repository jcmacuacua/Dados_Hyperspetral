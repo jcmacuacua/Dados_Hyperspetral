{
  "nbformat": 4,
  "nbformat_minor": 0,
  "metadata": {
    "colab": {
      "provenance": [],
      "authorship_tag": "ABX9TyPeqZeK2/BgKeHL4oUsAift",
      "include_colab_link": true
    },
    "kernelspec": {
      "name": "python3",
      "display_name": "Python 3"
    },
    "language_info": {
      "name": "python"
    }
  },
  "cells": [
    {
      "cell_type": "markdown",
      "metadata": {
        "id": "view-in-github",
        "colab_type": "text"
      },
      "source": [
        "<a href=\"https://colab.research.google.com/github/jcmacuacua/Dados_Hyperspetral/blob/main/Exercicio_aula2.ipynb\" target=\"_parent\"><img src=\"https://colab.research.google.com/assets/colab-badge.svg\" alt=\"Open In Colab\"/></a>"
      ]
    },
    {
      "cell_type": "code",
      "execution_count": null,
      "metadata": {
        "id": "SwJNrWrjPu-0"
      },
      "outputs": [],
      "source": [
        "#\n",
        "# gerador de lerolero \n",
        "#\n",
        "\n",
        "import random\n",
        "import sys\n",
        "import re"
      ]
    },
    {
      "cell_type": "code",
      "source": [
        "tab0 = [\n",
        "  'Caros amigos, ',\n",
        "  'Por outro lado, ',\n",
        "  'Assim mesmo, ',\n",
        "  'No entanto, não podemos esquecer que ',\n",
        "  'Do mesmo modo, ',\n",
        "  'A prática cotidiana prova que ',\n",
        "  'Nunca é demais lembrar o peso e o significado destes problemas, uma vez que ',\n",
        "  'As experiências acumuladas demonstram que ',\n",
        "  'Acima de tudo, é fundamental ressaltar que ',\n",
        "  'O incentivo ao avanço tecnológico, assim como ',\n",
        "  'Não obstante, ',\n",
        "  'Todas estas questões, devidamente ponderadas, levantam dúvidas sobre se ',\n",
        "  'Pensando mais a longo prazo, ',\n",
        "  'O que temos que ter sempre em mente é que ',\n",
        "  'Ainda assim, existem dúvidas a respeito de como ',\n",
        "  'Gostaria de enfatizar que ',\n",
        "  'Todavia, ',\n",
        "  'A nível organizacional, ',\n",
        "  'O empenho em analisar ',\n",
        "  'Percebemos, cada vez mais, que ',\n",
        "  'No mundo atual, ',\n",
        "  'É importante questionar o quanto ',\n",
        "  'Neste sentido, ',\n",
        "  'Evidentemente, ',\n",
        "  'Por conseguinte, ',\n",
        "  'É claro que ',\n",
        "  'Podemos já vislumbrar o modo pelo qual ',\n",
        "  'Desta maneira, ',\n",
        "  'O cuidado em identificar pontos críticos n',\n",
        "  'A certificação de metodologias que nos auxiliam a lidar com ']"
      ],
      "metadata": {
        "id": "zK1r0MO5QBx7"
      },
      "execution_count": null,
      "outputs": []
    },
    {
      "cell_type": "code",
      "source": [
        "tab1 = [\n",
        "  'a execução dos pontos do programa ',\n",
        "  'a complexidade dos estudos efetuados ',\n",
        "  'a contínua expansão de nossa atividade ',\n",
        "  'a estrutura atual da organização ',\n",
        "  'o novo modelo estrutural aqui preconizado ',\n",
        "  'o desenvolvimento contínuo de distintas formas de atuação ',\n",
        "  'a constante divulgação das informações ',\n",
        "  'a consolidação das estruturas ',\n",
        "  'a consulta aos diversos militantes ',\n",
        "  'o início da atividade geral de formação de atitudes ',\n",
        "  'o desafiador cenário globalizado ',\n",
        "  'a mobilidade dos capitais internacionais ',\n",
        "  'o fenômeno da Internet ',\n",
        "  'a hegemonia do ambiente político ',\n",
        "  'a expansão dos mercados mundiais ',\n",
        "  'o aumento do diálogo entre os diferentes setores produtivos ',\n",
        "  'a crescente influência da mídia ',\n",
        "  'a necessidade de renovação processual ',\n",
        "  'a competitividade nas transações comerciais ',\n",
        "  'o surgimento do comércio virtual ',\n",
        "  'a revolução dos costumes ',\n",
        "  'o acompanhamento das preferências de consumo ',\n",
        "  'o comprometimento entre as equipes ',\n",
        "  'a determinação clara de objetivos ',\n",
        "  'a adoção de políticas descentralizadoras ',\n",
        "  'a valorização de fatores subjetivos ',\n",
        "  'a percepção das dificuldades ',\n",
        "  'o entendimento das metas propostas ',\n",
        "  'o consenso sobre a necessidade de qualificação ',\n",
        "  'o julgamento imparcial das eventualidades ']"
      ],
      "metadata": {
        "id": "4uUApPpTQGsf"
      },
      "execution_count": null,
      "outputs": []
    },
    {
      "cell_type": "code",
      "source": [
        "tab2 = [\n",
        "  'nos obriga à análise ',\n",
        "  'cumpre um papel essencial na formulação ',\n",
        "  'exige a precisão e a definição ',\n",
        "  'auxilia a preparação e a composição ',\n",
        "  'garante a contribuição de um grupo importante na determinação ',\n",
        "  'assume importantes posições no estabelecimento ',\n",
        "  'facilita a criação ',\n",
        "  'obstaculiza a apreciação da importância ',\n",
        "  'oferece uma interessante oportunidade para verificação ',\n",
        "  'acarreta um processo de reformulação e modernização ',\n",
        "  'pode nos levar a considerar a reestruturação ',\n",
        "  'representa uma abertura para a melhoria ',\n",
        "  'ainda não demonstrou convincentemente que vai participar na mudança ',\n",
        "  'talvez venha a ressaltar a relatividade ',\n",
        "  'prepara-nos para enfrentar situações atípicas decorrentes ',\n",
        "  'maximiza as possibilidades por conta ',\n",
        "  'desafia a capacidade de equalização ',\n",
        "  'agrega valor ao estabelecimento ',\n",
        "  'é uma das consequências ',\n",
        "  'promove a alavancagem ',\n",
        "  'não pode mais se dissociar ',\n",
        "  'possibilita uma melhor visão global ',\n",
        "  'estimula a padronização ',\n",
        "  'aponta para a melhoria ',\n",
        "  'faz parte de um processo de gerenciamento ',\n",
        "  'causa impacto indireto na reavaliação ',\n",
        "  'apresenta tendências no sentido de aprovar a manutenção ',\n",
        "  'estende o alcance e a importância ',\n",
        "  'deve passar por modificações independentemente ',\n",
        "  'afeta positivamente a correta previsão ']"
      ],
      "metadata": {
        "id": "saXHGBdXQL2s"
      },
      "execution_count": null,
      "outputs": []
    },
    {
      "cell_type": "code",
      "source": [
        "tab3 = [\n",
        "  'das condições financeiras e administrativas exigidas.',\n",
        "  'das diretrizes de desenvolvimento para o futuro.',\n",
        "  'do sistema de participação geral.',\n",
        "  'das posturas dos órgãos dirigentes com relação às suas atribuições.',\n",
        "  'das novas proposições.',\n",
        "  'das direções preferenciais no sentido do progresso.',\n",
        "  'do sistema de formação de quadros que corresponde às necessidades.',\n",
        "  'das condições inegavelmente apropriadas.',\n",
        "  'dos índices pretendidos.',\n",
        "  'das formas de ação.',\n",
        "  'dos paradigmas corporativos.',\n",
        "  'dos relacionamentos verticais entre as hierarquias.',\n",
        "  'do processo de comunicação como um todo.',\n",
        "  'dos métodos utilizados na avaliação de resultados.',\n",
        "  'de todos os recursos funcionais envolvidos.',\n",
        "  'dos níveis de motivação departamental.',\n",
        "  'da gestão inovadora da qual fazemos parte.',\n",
        "  'dos modos de operação convencionais.',\n",
        "  'de alternativas às soluções ortodoxas.',\n",
        "  'dos procedimentos normalmente adotados.',\n",
        "  'dos conhecimentos estratégicos para atingir a excelência.',\n",
        "  'do fluxo de informações.',\n",
        "  'do levantamento das variáveis envolvidas.',\n",
        "  'das diversas correntes de pensamento.',\n",
        "  'do impacto na agilidade decisória.',\n",
        "  'das regras de conduta normativas.',\n",
        "  'do orçamento setorial.',\n",
        "  'do retorno esperado a longo prazo.',\n",
        "  'do investimento em reciclagem técnica.',\n",
        "  'do remanejamento dos quadros funcionais.']"
      ],
      "metadata": {
        "id": "ScBjLyLLQNH7"
      },
      "execution_count": null,
      "outputs": []
    },
    {
      "cell_type": "code",
      "source": [
        "def geraFrase():\n",
        "    \n",
        "    p0 = tab0[ random.randint(0,len(tab0)-1) ]\n",
        "    p1 = tab1[ random.randint(0,len(tab1)-1) ]\n",
        "    p2 = tab2[ random.randint(0,len(tab2)-1) ]\n",
        "    p3 = tab3[ random.randint(0,len(tab3)-1) ]\n",
        "\n",
        "    return str(p0 + p1 + p2 + p3 + \" \")"
      ],
      "metadata": {
        "id": "WSqh6OgKQT-t"
      },
      "execution_count": null,
      "outputs": []
    },
    {
      "cell_type": "code",
      "source": [
        "def geraArquivo(nomeArquivo, isFrase, tamanho):\n",
        "\tsaida = \"\"\n",
        "\n",
        "\tif isFrase:\n",
        "\t\tfor _ in range(0,tamanho):\n",
        "\t\t\tsaida = saida + geraFrase()\n",
        "\n",
        "\telse:\n",
        "\t\tquantCaracteres = 0\n",
        "\t\twhile (quantCaracteres < tamanho):\t\t\t\t\t\n",
        "\t\t\tfrase = geraFrase()\n",
        "\t\t\tquantCaracteres = quantCaracteres + len(frase)\n",
        "\t\t\tsaida = saida + geraFrase()\n",
        "\t\t\n",
        "\t\t#Corta a string de acordo com o limite de caracteres.\n",
        "\t\tsaida = saida[0:tamanho]\n",
        "\n",
        "\tarquivo = open(nomeArquivo, 'w')\n",
        "\tarquivo.write(saida)\n",
        "\tarquivo.close()"
      ],
      "metadata": {
        "id": "UM_-XDzlQXPp"
      },
      "execution_count": null,
      "outputs": []
    },
    {
      "cell_type": "code",
      "source": [
        "\"\"\"\n",
        "modulo = Texto, Arquivo\n",
        "tamanho = Tamanho do lerolero\n",
        "isFrase = Se o tamanho é limitado pelas frases(frase) ou caracteres(caracter)\n",
        "quantGe = Quantidade de geracoes.\n",
        "taxaCre = Taxa de crescimento.\n",
        "nomeArq = Nome padrão arquivo.\n",
        "\"\"\"\n",
        "def uc_arquivo(**kwargs):\n",
        "\t\n",
        "\tquantArquivos = kwargs.get('quantGe')\n",
        "\ttaxaCrescimento = kwargs.get('taxaCre')\n",
        "\ttamanho = kwargs.get('tamanho')\n",
        "\tisFrase = kwargs.get('isFrase')\n",
        "\tnomeBase = kwargs.get('nomeArq')\n",
        "\n",
        "\tprint(quantArquivos,\" arquivo(s) começando no tamanho \", tamanho, \" e crescendo em uma taxa de vezes \", taxaCrescimento, \" contando por \", (\"frase\" if isFrase else \"caracter\"), \" e com nome \", nomeBase, \"X.txt\")\n",
        "\tc = tamanho\n",
        "\tfor i in range(1, quantArquivos+1):\n",
        "\t\t\n",
        "\t\tnome_atual = str( nomeBase + str(i) + \".txt\" )\n",
        "\t\t\n",
        "\t\tgeraArquivo(nome_atual, isFrase, c)\n",
        "    \t\n",
        "\t\tc = c * taxaCrescimento\n"
      ],
      "metadata": {
        "id": "UEfIaq04QgdX"
      },
      "execution_count": null,
      "outputs": []
    },
    {
      "cell_type": "code",
      "source": [
        "def uc_texto(tamanho):\n",
        "\tsaida = \"\"\n",
        "\tfor i in range(0, tamanho):\n",
        "\t\tsaida = saida + geraFrase()\n",
        "\tprint(saida)\n",
        "\n",
        "\n",
        "tamanho = 2\n",
        "uc_texto(tamanho)"
      ],
      "metadata": {
        "colab": {
          "base_uri": "https://localhost:8080/"
        },
        "id": "oMphUEczQkHb",
        "outputId": "db530b77-11bd-464b-9bb8-d67cb3b27ae6"
      },
      "execution_count": null,
      "outputs": [
        {
          "output_type": "stream",
          "name": "stdout",
          "text": [
            "A certificação de metodologias que nos auxiliam a lidar com o entendimento das metas propostas assume importantes posições no estabelecimento do remanejamento dos quadros funcionais. Pensando mais a longo prazo, o desenvolvimento contínuo de distintas formas de atuação ainda não demonstrou convincentemente que vai participar na mudança das diversas correntes de pensamento. \n"
          ]
        }
      ]
    }
  ]
}