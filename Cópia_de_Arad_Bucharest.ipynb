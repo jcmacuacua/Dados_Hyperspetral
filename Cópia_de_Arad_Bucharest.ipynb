{
  "nbformat": 4,
  "nbformat_minor": 0,
  "metadata": {
    "colab": {
      "name": "Cópia de Arad_Bucharest.ipynb",
      "provenance": [],
      "authorship_tag": "ABX9TyOiTYos5QEeX+2bDl10X0zR",
      "include_colab_link": true
    },
    "kernelspec": {
      "name": "python3",
      "display_name": "Python 3"
    },
    "language_info": {
      "name": "python"
    }
  },
  "cells": [
    {
      "cell_type": "markdown",
      "metadata": {
        "id": "view-in-github",
        "colab_type": "text"
      },
      "source": [
        "<a href=\"https://colab.research.google.com/github/jcmacuacua/Dados_Hyperspetral/blob/main/C%C3%B3pia_de_Arad_Bucharest.ipynb\" target=\"_parent\"><img src=\"https://colab.research.google.com/assets/colab-badge.svg\" alt=\"Open In Colab\"/></a>"
      ]
    },
    {
      "cell_type": "code",
      "execution_count": 1,
      "metadata": {
        "id": "9waF9LoDyOZG"
      },
      "outputs": [],
      "source": [
        "\n",
        "dists = {\\\n",
        "            'Arad': {'Sibiu': 140, 'Zerind': 75, 'Timisoara': 118},\\\n",
        "            'Zerind': {'Arad': 75, 'Oradea': 71},\\\n",
        "            'Oradea': {'Zerind': 71, 'Sibiu': 151},\\\n",
        "            'Sibiu': {'Arad': 140, 'Oradea': 151, 'Fagaras': 99, 'Rimnicu': 80},\\\n",
        "            'Timisoara': {'Arad': 118, 'Lugoj': 111},\\\n",
        "            'Lugoj': {'Timisoara': 111, 'Mehadia': 70},\\\n",
        "            'Mehadia': {'Lugoj': 70, 'Drobeta': 75},\\\n",
        "            'Drobeta': {'Mehadia': 75, 'Craiova': 120},\\\n",
        "            'Craiova': {'Drobeta': 120, 'Rimnicu': 146, 'Pitesti': 138},\\\n",
        "            'Rimnicu': {'Sibiu': 80, 'Craiova': 146, 'Pitesti': 97},\\\n",
        "            'Fagaras': {'Sibiu': 99, 'Bucharest': 211},\\\n",
        "            'Pitesti': {'Rimnicu': 97, 'Craiova': 138, 'Bucharest': 101},\\\n",
        "            'Bucharest': {'Fagaras': 211, 'Pitesti': 101, 'Giurgiu': 90, 'Urziceni': 85},\\\n",
        "            'Giurgiu': {'Bucharest': 90},\\\n",
        "            'Urziceni': {'Bucharest': 85, 'Vaslui': 142, 'Hirsova': 98},\\\n",
        "            'Hirsova': {'Urziceni': 98, 'Eforie': 86},\\\n",
        "            'Eforie': {'Hirsova': 86},\\\n",
        "            'Vaslui': {'Iasi': 92, 'Urziceni': 142},\\\n",
        "            'Iasi': {'Vaslui': 92, 'Neamt': 87},\\\n",
        "            'Neamt': {'Iasi': 87}\\\n",
        "        }"
      ]
    },
    {
      "cell_type": "code",
      "source": [
        "def dfs_paths(source, destination, path=None):\n",
        "    \"\"\"All possible paths from source to destination using depth-first search\n",
        "    :param source: Source city name\n",
        "    :param destination: Destination city name\n",
        "    :param path: Current traversed path (Default value = None)\n",
        "    :yields: All possible paths from source to destination\n",
        "    \"\"\"\n",
        "    if path is None:\n",
        "        path = [source]\n",
        "    if source == destination:\n",
        "        yield path\n",
        "    for next_node in set(dists[source].keys()) - set(path):\n",
        "        yield from dfs_paths(next_node, destination, path + [next_node])"
      ],
      "metadata": {
        "id": "A6NRv-qayb2u"
      },
      "execution_count": 2,
      "outputs": []
    },
    {
      "cell_type": "code",
      "source": [
        "def ucs(source, destination):\n",
        "    \"\"\"Cheapest path from source to destination using uniform cost search\n",
        "    :param source: Source city name\n",
        "    :param destination: Destination city name\n",
        "    :returns: Cost and path for cheapest traversal\n",
        "    \"\"\"\n",
        "    from queue import PriorityQueue\n",
        "    priority_queue, visited = PriorityQueue(), {}\n",
        "    priority_queue.put((0, source, [source]))\n",
        "    visited[source] = 0\n",
        "    while not priority_queue.empty():\n",
        "        (cost, vertex, path) = priority_queue.get()\n",
        "        if vertex == destination:\n",
        "            return cost, path\n",
        "        for next_node in dists[vertex].keys():\n",
        "            current_cost = cost + dists[vertex][next_node]\n",
        "            if not next_node in visited or visited[next_node] >= current_cost:\n",
        "                visited[next_node] = current_cost\n",
        "                priority_queue.put((current_cost, next_node, path + [next_node]))\n"
      ],
      "metadata": {
        "id": "iPCDEhrdyis0"
      },
      "execution_count": 3,
      "outputs": []
    },
    {
      "cell_type": "code",
      "source": [
        "def a_star(source, destination):\n",
        "    \"\"\"Optimal path from source to destination using straight line distance heuristic\n",
        "    :param source: Source city name\n",
        "    :param destination: Destination city name\n",
        "    :returns: Heuristic value, cost and path for optimal traversal\n",
        "    \"\"\""
      ],
      "metadata": {
        "id": "QjaPwTJiypDD"
      },
      "execution_count": 4,
      "outputs": []
    },
    {
      "cell_type": "code",
      "source": [
        " # HERE THE STRAIGHT LINE DISTANCE VALUES ARE IN REFERENCE TO BUCHAREST AS THE DESTINATION\n",
        "def a_star(source, destination):\n",
        "    \"\"\"Optimal path from source to destination using straight line distance heuristic\n",
        "    :param source: Source city name\n",
        "    :param destination: Destination city name\n",
        "    :returns: Heuristic value, cost and path for optimal traversal\n",
        "    \"\"\"\n",
        "    # HERE THE STRAIGHT LINE DISTANCE VALUES ARE IN REFERENCE TO BUCHAREST AS THE DESTINATION\n",
        "    straight_line = {\\\n",
        "                        'Arad': 366,\\\n",
        "                        'Zerind': 374,\\\n",
        "                        'Oradea': 380,\\\n",
        "                        'Sibiu': 253,\\\n",
        "                        'Timisoara': 329,\\\n",
        "                        'Lugoj': 244,\\\n",
        "                        'Mehadia': 241,\\\n",
        "                        'Drobeta': 242,\\\n",
        "                        'Craiova': 160,\\\n",
        "                        'Rimnicu': 193,\\\n",
        "                        'Fagaras': 176,\\\n",
        "                        'Pitesti': 100,\\\n",
        "                        'Bucharest': 0,\\\n",
        "                        'Giurgiu': 77,\\\n",
        "                        'Urziceni': 80,\\\n",
        "                        'Hirsova': 151,\\\n",
        "                        'Eforie': 161,\\\n",
        "                        'Vaslui': 199,\\\n",
        "                        'Iasi': 226,\\\n",
        "                        'Neamt': 234\\\n",
        "                    }\n",
        "    from queue import PriorityQueue\n",
        "    priority_queue, visited = PriorityQueue(), {}\n",
        "    priority_queue.put((straight_line[source], 0, source, [source]))\n",
        "    visited[source] = straight_line[source]\n",
        "    while not priority_queue.empty():\n",
        "        (heuristic, cost, vertex, path) = priority_queue.get()\n",
        "        if vertex == destination:\n",
        "            return heuristic, cost, path\n",
        "        for next_node in dists[vertex].keys():\n",
        "            current_cost = cost + dists[vertex][next_node]\n",
        "            heuristic = current_cost + straight_line[next_node]\n",
        "            if not next_node in visited or visited[next_node] >= heuristic:\n",
        "                visited[next_node] = heuristic\n",
        "                priority_queue.put((heuristic, current_cost, next_node, path + [next_node]))\n"
      ],
      "metadata": {
        "id": "yQ5DzX2_zGI2"
      },
      "execution_count": 5,
      "outputs": []
    },
    {
      "cell_type": "code",
      "source": [
        "def main():\n",
        "    \"\"\"Main function\"\"\"\n",
        "    print('ENTER SOURCE :', end=' ')\n",
        "    source = input().strip()\n",
        "    print('ENTER GOAL :', end=' ')\n",
        "    goal = input().strip()\n",
        "    if source not in dists or goal not in dists:\n",
        "        print('ERROR: CITY DOES NOT EXIST.')\n",
        "    else:\n",
        "        print('\\nALL POSSIBLE PATHS:')\n",
        "        paths = dfs_paths(source, goal)\n",
        "        for path in paths:\n",
        "            print(' -> '.join(city for city in path))\n",
        "        print('\\nCHEAPEST PATH:')\n",
        "        cost, cheapest_path = ucs(source, goal)\n",
        "        print('PATH COST =', cost)\n",
        "        print(' -> '.join(city for city in cheapest_path))\n",
        "        print('\\nOPTIMAL PATH:')\n",
        "        heuristic, cost, optimal_path = a_star(source, goal)\n",
        "        print('HEURISTIC =', heuristic)\n",
        "        print('PATH COST =', cost)\n",
        "        print(' -> '.join(city for city in optimal_path))\n",
        "\n",
        "if __name__ == '__main__':\n",
        "    main()"
      ],
      "metadata": {
        "colab": {
          "base_uri": "https://localhost:8080/"
        },
        "id": "w9L9gt3AzRXk",
        "outputId": "977a22c6-e25a-4927-a9a4-5df9f843290f"
      },
      "execution_count": 8,
      "outputs": [
        {
          "output_type": "stream",
          "name": "stdout",
          "text": [
            "ENTER SOURCE : Arad\n",
            "ENTER GOAL : Bucharest\n",
            "\n",
            "ALL POSSIBLE PATHS:\n",
            "Arad -> Sibiu -> Fagaras -> Bucharest\n",
            "Arad -> Sibiu -> Rimnicu -> Pitesti -> Bucharest\n",
            "Arad -> Sibiu -> Rimnicu -> Craiova -> Pitesti -> Bucharest\n",
            "Arad -> Zerind -> Oradea -> Sibiu -> Fagaras -> Bucharest\n",
            "Arad -> Zerind -> Oradea -> Sibiu -> Rimnicu -> Pitesti -> Bucharest\n",
            "Arad -> Zerind -> Oradea -> Sibiu -> Rimnicu -> Craiova -> Pitesti -> Bucharest\n",
            "Arad -> Timisoara -> Lugoj -> Mehadia -> Drobeta -> Craiova -> Pitesti -> Bucharest\n",
            "Arad -> Timisoara -> Lugoj -> Mehadia -> Drobeta -> Craiova -> Pitesti -> Rimnicu -> Sibiu -> Fagaras -> Bucharest\n",
            "Arad -> Timisoara -> Lugoj -> Mehadia -> Drobeta -> Craiova -> Rimnicu -> Sibiu -> Fagaras -> Bucharest\n",
            "Arad -> Timisoara -> Lugoj -> Mehadia -> Drobeta -> Craiova -> Rimnicu -> Pitesti -> Bucharest\n",
            "\n",
            "CHEAPEST PATH:\n",
            "PATH COST = 418\n",
            "Arad -> Sibiu -> Rimnicu -> Pitesti -> Bucharest\n",
            "\n",
            "OPTIMAL PATH:\n",
            "HEURISTIC = 418\n",
            "PATH COST = 418\n",
            "Arad -> Sibiu -> Rimnicu -> Pitesti -> Bucharest\n"
          ]
        }
      ]
    }
  ]
}