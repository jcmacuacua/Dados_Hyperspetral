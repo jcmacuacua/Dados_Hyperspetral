{
  "nbformat": 4,
  "nbformat_minor": 0,
  "metadata": {
    "colab": {
      "name": "Cópia de Jaime_cnn_nova",
      "provenance": [],
      "collapsed_sections": [],
      "include_colab_link": true
    },
    "kernelspec": {
      "name": "python3",
      "display_name": "Python 3"
    },
    "language_info": {
      "name": "python"
    },
    "accelerator": "GPU"
  },
  "cells": [
    {
      "cell_type": "markdown",
      "metadata": {
        "id": "view-in-github",
        "colab_type": "text"
      },
      "source": [
        "<a href=\"https://colab.research.google.com/github/jcmacuacua/Dados_Hyperspetral/blob/main/C%C3%B3pia_de_Jaime_cnn_nova.ipynb\" target=\"_parent\"><img src=\"https://colab.research.google.com/assets/colab-badge.svg\" alt=\"Open In Colab\"/></a>"
      ]
    },
    {
      "cell_type": "markdown",
      "metadata": {
        "id": "sM8Le3Y4S8nI"
      },
      "source": [
        "Adaptado de:\n",
        "\n",
        "https://medium.com/techiepedia/binary-image-classifier-cnn-using-tensorflow-a3f5d6746697"
      ]
    },
    {
      "cell_type": "code",
      "metadata": {
        "colab": {
          "base_uri": "https://localhost:8080/"
        },
        "id": "HEmnMU9-wYuL",
        "outputId": "707ebcdc-dae0-41c2-a308-4755d933cc5b"
      },
      "source": [
        "from google.colab import drive\n",
        "drive.mount('/content/drive')"
      ],
      "execution_count": null,
      "outputs": [
        {
          "output_type": "stream",
          "name": "stdout",
          "text": [
            "Mounted at /content/drive\n"
          ]
        }
      ]
    },
    {
      "cell_type": "code",
      "metadata": {
        "colab": {
          "base_uri": "https://localhost:8080/"
        },
        "id": "m2f8pRlkdkke",
        "outputId": "b1adf92b-aea4-4c2a-e1ad-23ef9d601316"
      },
      "source": [
        "import tensorflow as tf\n",
        "print(\"Num GPUs Available: \", len(tf.config.list_physical_devices('GPU')))\n",
        "import numpy as np\n",
        "from tensorflow import keras\n",
        "import os\n",
        "import cv2\n",
        "from tensorflow.keras.preprocessing.image import ImageDataGenerator\n",
        "from tensorflow.keras.preprocessing import image\n",
        "import matplotlib.pyplot as plt\n",
        "from random import randint\n",
        "import os\n",
        "from PIL import ImageFile\n",
        "ImageFile.LOAD_TRUNCATED_IMAGES = True"
      ],
      "execution_count": null,
      "outputs": [
        {
          "output_type": "stream",
          "name": "stdout",
          "text": [
            "Num GPUs Available:  1\n"
          ]
        }
      ]
    },
    {
      "cell_type": "code",
      "metadata": {
        "id": "SsZSPzqK80Wv"
      },
      "source": [
        "train_path = \"/content/drive/MyDrive/Leaf/train\"\n",
        "test_path = \"/content/drive/MyDrive/Leaf/test\"\n",
        "\n",
        "dest_res = 150\n",
        "\n",
        "batchsize = 32\n",
        "\n",
        "label1 = 'healthy'\n",
        "label2 = 'diseased'"
      ],
      "execution_count": null,
      "outputs": []
    },
    {
      "cell_type": "code",
      "metadata": {
        "colab": {
          "base_uri": "https://localhost:8080/"
        },
        "id": "VAK4bl5kfwW1",
        "outputId": "571e33fa-f216-4573-a7bb-ed6bec5fda1d"
      },
      "source": [
        "print(os.listdir(train_path))\n",
        "print(os.listdir(test_path))"
      ],
      "execution_count": null,
      "outputs": [
        {
          "output_type": "stream",
          "name": "stdout",
          "text": [
            "['diseased', 'healthy']\n",
            "['diseased', 'healthy']\n"
          ]
        }
      ]
    },
    {
      "cell_type": "code",
      "metadata": {
        "colab": {
          "base_uri": "https://localhost:8080/"
        },
        "id": "5YEQS5iphFl1",
        "outputId": "ec2f1912-d90e-4822-f7bb-9e3eb54ea5d1"
      },
      "source": [
        "print(os.listdir(train_path))\n",
        "print(os.listdir(test_path))\n",
        "import shutil\n",
        "undesired_folder = '.ipynb_checkpoints'\n",
        "for paths in (train_path,test_path):\n",
        "    if undesired_folder in os.listdir(paths):\n",
        "       shutil.rmtree(os.path.join(paths,undesired_folder))\n",
        "\n",
        "print(os.listdir(train_path))\n",
        "print(os.listdir(test_path))"
      ],
      "execution_count": null,
      "outputs": [
        {
          "output_type": "stream",
          "name": "stdout",
          "text": [
            "['diseased', 'healthy']\n",
            "['diseased', 'healthy']\n",
            "['diseased', 'healthy']\n",
            "['diseased', 'healthy']\n"
          ]
        }
      ]
    },
    {
      "cell_type": "code",
      "metadata": {
        "colab": {
          "base_uri": "https://localhost:8080/"
        },
        "id": "2XFrQ1nd85Jd",
        "outputId": "be3faf50-09f6-4f8e-ecc8-4ee487472b1d"
      },
      "source": [
        "train = ImageDataGenerator(rescale=1/255)\n",
        "test = ImageDataGenerator(rescale=1/255)\n",
        "\n",
        "train_dataset = train.flow_from_directory(train_path,\n",
        "                                          target_size=(dest_res,dest_res),\n",
        "                                          batch_size = batchsize,\n",
        "                                          class_mode = 'binary')\n",
        "                                         \n",
        "test_dataset = test.flow_from_directory(test_path,\n",
        "                                          target_size=(dest_res,dest_res),\n",
        "                                          batch_size = batchsize,\n",
        "                                          class_mode = 'binary')"
      ],
      "execution_count": null,
      "outputs": [
        {
          "output_type": "stream",
          "name": "stdout",
          "text": [
            "Found 1967 images belonging to 2 classes.\n",
            "Found 512 images belonging to 2 classes.\n"
          ]
        }
      ]
    },
    {
      "cell_type": "code",
      "metadata": {
        "id": "t0UVKampcnbZ",
        "colab": {
          "base_uri": "https://localhost:8080/"
        },
        "outputId": "929f3b80-7665-4203-e764-96c5df2cb829"
      },
      "source": [
        "test_dataset.class_indices"
      ],
      "execution_count": null,
      "outputs": [
        {
          "output_type": "execute_result",
          "data": {
            "text/plain": [
              "{'diseased': 0, 'healthy': 1}"
            ]
          },
          "metadata": {},
          "execution_count": 7
        }
      ]
    },
    {
      "cell_type": "code",
      "metadata": {
        "id": "vOonlZ8oTqE-"
      },
      "source": [
        "model = keras.Sequential()\n",
        "\n",
        "# Convolutional layer and maxpool layer 1\n",
        "model.add(keras.layers.Conv2D(32,(3,3),activation='relu',input_shape=(dest_res,dest_res,3)))\n",
        "model.add(keras.layers.MaxPool2D(2,2))\n",
        "\n",
        "# Convolutional layer and maxpool layer 2\n",
        "model.add(keras.layers.Conv2D(64,(3,3),activation='relu'))\n",
        "model.add(keras.layers.MaxPool2D(2,2))\n",
        "\n",
        "# Convolutional layer and maxpool layer 3\n",
        "model.add(keras.layers.Conv2D(128,(3,3),activation='relu'))\n",
        "model.add(keras.layers.MaxPool2D(2,2))\n",
        "\n",
        "# Convolutional layer and maxpool layer 4\n",
        "model.add(keras.layers.Conv2D(128,(3,3),activation='relu'))\n",
        "model.add(keras.layers.MaxPool2D(2,2))\n",
        "\n",
        "# This layer flattens the resulting image array to 1D array\n",
        "model.add(keras.layers.Flatten())\n",
        "\n",
        "# Hidden layer with 512 neurons and Rectified Linear Unit activation function \n",
        "model.add(keras.layers.Dense(512,activation='relu'))\n",
        "\n",
        "# Output layer with single neuron which gives 0 for Cat or 1 for Dog \n",
        "#Here we use sigmoid activation function which makes our model output to lie between 0 and 1\n",
        "model.add(keras.layers.Dense(1,activation='sigmoid'))"
      ],
      "execution_count": null,
      "outputs": []
    },
    {
      "cell_type": "code",
      "metadata": {
        "id": "gWfVzsGKTt1c"
      },
      "source": [
        "model.compile(optimizer='adam',loss='binary_crossentropy',metrics=['accuracy'])"
      ],
      "execution_count": null,
      "outputs": []
    },
    {
      "cell_type": "code",
      "metadata": {
        "id": "3niNkU-ATzbX",
        "colab": {
          "base_uri": "https://localhost:8080/"
        },
        "outputId": "0945e819-21f6-45df-dad6-9fa48c53efbb"
      },
      "source": [
        "#steps_per_epoch = train_imagesize/batch_size\n",
        "history = model.fit(train_dataset,\n",
        "         steps_per_epoch = 50,\n",
        "         epochs = 40,\n",
        "         validation_data = test_dataset\n",
        "         )"
      ],
      "execution_count": null,
      "outputs": [
        {
          "output_type": "stream",
          "name": "stdout",
          "text": [
            "Epoch 1/40\n",
            "50/50 [==============================] - 462s 9s/step - loss: 0.5923 - accuracy: 0.6481 - val_loss: 0.4327 - val_accuracy: 0.8477\n",
            "Epoch 2/40\n",
            "50/50 [==============================] - 75s 2s/step - loss: 0.3945 - accuracy: 0.8402 - val_loss: 0.2707 - val_accuracy: 0.8867\n",
            "Epoch 3/40\n",
            "50/50 [==============================] - 25s 495ms/step - loss: 0.2896 - accuracy: 0.8806 - val_loss: 0.2735 - val_accuracy: 0.9121\n",
            "Epoch 4/40\n",
            "50/50 [==============================] - 18s 354ms/step - loss: 0.3135 - accuracy: 0.8675 - val_loss: 0.1783 - val_accuracy: 0.9297\n",
            "Epoch 5/40\n",
            "50/50 [==============================] - 17s 339ms/step - loss: 0.2004 - accuracy: 0.9204 - val_loss: 0.1437 - val_accuracy: 0.9512\n",
            "Epoch 6/40\n",
            "50/50 [==============================] - 16s 322ms/step - loss: 0.1199 - accuracy: 0.9544 - val_loss: 0.0568 - val_accuracy: 0.9863\n",
            "Epoch 7/40\n",
            "50/50 [==============================] - 16s 315ms/step - loss: 0.0620 - accuracy: 0.9775 - val_loss: 0.0776 - val_accuracy: 0.9746\n",
            "Epoch 8/40\n",
            "50/50 [==============================] - 16s 319ms/step - loss: 0.0506 - accuracy: 0.9804 - val_loss: 0.0257 - val_accuracy: 0.9922\n",
            "Epoch 9/40\n",
            "50/50 [==============================] - 15s 301ms/step - loss: 0.0215 - accuracy: 0.9931 - val_loss: 0.0495 - val_accuracy: 0.9883\n",
            "Epoch 10/40\n",
            "50/50 [==============================] - 15s 313ms/step - loss: 0.0372 - accuracy: 0.9855 - val_loss: 0.0202 - val_accuracy: 0.9922\n",
            "Epoch 11/40\n",
            "50/50 [==============================] - 15s 302ms/step - loss: 0.1277 - accuracy: 0.9596 - val_loss: 0.2283 - val_accuracy: 0.9414\n",
            "Epoch 12/40\n",
            "50/50 [==============================] - 15s 303ms/step - loss: 0.0768 - accuracy: 0.9754 - val_loss: 0.0305 - val_accuracy: 0.9902\n",
            "Epoch 13/40\n",
            "50/50 [==============================] - 16s 314ms/step - loss: 0.0155 - accuracy: 0.9956 - val_loss: 0.0225 - val_accuracy: 0.9941\n",
            "Epoch 14/40\n",
            "50/50 [==============================] - 15s 300ms/step - loss: 0.0094 - accuracy: 0.9968 - val_loss: 0.0171 - val_accuracy: 0.9941\n",
            "Epoch 15/40\n",
            "50/50 [==============================] - 16s 316ms/step - loss: 0.0051 - accuracy: 0.9981 - val_loss: 0.0198 - val_accuracy: 0.9941\n",
            "Epoch 16/40\n",
            "50/50 [==============================] - 16s 314ms/step - loss: 0.0089 - accuracy: 0.9968 - val_loss: 0.0205 - val_accuracy: 0.9902\n",
            "Epoch 17/40\n",
            "50/50 [==============================] - 16s 313ms/step - loss: 0.0038 - accuracy: 0.9994 - val_loss: 0.0167 - val_accuracy: 0.9961\n",
            "Epoch 18/40\n",
            "50/50 [==============================] - 16s 318ms/step - loss: 0.0039 - accuracy: 0.9981 - val_loss: 0.0147 - val_accuracy: 0.9961\n",
            "Epoch 19/40\n",
            "50/50 [==============================] - 16s 328ms/step - loss: 0.0039 - accuracy: 0.9987 - val_loss: 0.0120 - val_accuracy: 0.9961\n",
            "Epoch 20/40\n",
            "50/50 [==============================] - 15s 309ms/step - loss: 0.0023 - accuracy: 0.9994 - val_loss: 0.0141 - val_accuracy: 0.9941\n",
            "Epoch 21/40\n",
            "50/50 [==============================] - 15s 306ms/step - loss: 0.0020 - accuracy: 0.9994 - val_loss: 0.0105 - val_accuracy: 0.9961\n",
            "Epoch 22/40\n",
            "50/50 [==============================] - 15s 304ms/step - loss: 0.0012 - accuracy: 0.9994 - val_loss: 0.0098 - val_accuracy: 0.9961\n",
            "Epoch 23/40\n",
            "50/50 [==============================] - 15s 305ms/step - loss: 0.0029 - accuracy: 0.9987 - val_loss: 0.0126 - val_accuracy: 0.9941\n",
            "Epoch 24/40\n",
            "50/50 [==============================] - 16s 311ms/step - loss: 0.0036 - accuracy: 0.9975 - val_loss: 0.0202 - val_accuracy: 0.9941\n",
            "Epoch 25/40\n",
            "50/50 [==============================] - 15s 301ms/step - loss: 0.0049 - accuracy: 0.9987 - val_loss: 0.0178 - val_accuracy: 0.9941\n",
            "Epoch 26/40\n",
            "50/50 [==============================] - 16s 314ms/step - loss: 0.0029 - accuracy: 0.9994 - val_loss: 0.0156 - val_accuracy: 0.9941\n",
            "Epoch 27/40\n",
            "50/50 [==============================] - 16s 319ms/step - loss: 0.0010 - accuracy: 0.9994 - val_loss: 0.0144 - val_accuracy: 0.9941\n",
            "Epoch 28/40\n",
            "50/50 [==============================] - 16s 322ms/step - loss: 3.3877e-04 - accuracy: 1.0000 - val_loss: 0.0112 - val_accuracy: 0.9941\n",
            "Epoch 29/40\n",
            "50/50 [==============================] - 16s 323ms/step - loss: 9.8823e-04 - accuracy: 0.9994 - val_loss: 0.0105 - val_accuracy: 0.9941\n",
            "Epoch 30/40\n",
            "50/50 [==============================] - 16s 328ms/step - loss: 6.5196e-04 - accuracy: 1.0000 - val_loss: 0.0103 - val_accuracy: 0.9941\n",
            "Epoch 31/40\n",
            "50/50 [==============================] - 16s 321ms/step - loss: 0.0025 - accuracy: 0.9994 - val_loss: 0.0135 - val_accuracy: 0.9941\n",
            "Epoch 32/40\n",
            "50/50 [==============================] - 16s 327ms/step - loss: 0.0027 - accuracy: 0.9987 - val_loss: 0.0140 - val_accuracy: 0.9941\n",
            "Epoch 33/40\n",
            "50/50 [==============================] - 16s 315ms/step - loss: 0.0014 - accuracy: 0.9994 - val_loss: 0.0118 - val_accuracy: 0.9961\n",
            "Epoch 34/40\n",
            "50/50 [==============================] - 16s 313ms/step - loss: 0.0015 - accuracy: 0.9994 - val_loss: 0.0116 - val_accuracy: 0.9941\n",
            "Epoch 35/40\n",
            "50/50 [==============================] - 16s 317ms/step - loss: 5.6146e-04 - accuracy: 1.0000 - val_loss: 0.0106 - val_accuracy: 0.9961\n",
            "Epoch 36/40\n",
            "50/50 [==============================] - 15s 308ms/step - loss: 0.0012 - accuracy: 0.9994 - val_loss: 0.0097 - val_accuracy: 0.9941\n",
            "Epoch 37/40\n",
            "50/50 [==============================] - 16s 315ms/step - loss: 0.0014 - accuracy: 0.9987 - val_loss: 0.0139 - val_accuracy: 0.9941\n",
            "Epoch 38/40\n",
            "50/50 [==============================] - 16s 321ms/step - loss: 0.0027 - accuracy: 0.9987 - val_loss: 0.0164 - val_accuracy: 0.9922\n",
            "Epoch 39/40\n",
            "50/50 [==============================] - 16s 308ms/step - loss: 0.0027 - accuracy: 0.9987 - val_loss: 0.0171 - val_accuracy: 0.9941\n",
            "Epoch 40/40\n",
            "50/50 [==============================] - 16s 309ms/step - loss: 0.0014 - accuracy: 0.9987 - val_loss: 0.0163 - val_accuracy: 0.9941\n"
          ]
        }
      ]
    },
    {
      "cell_type": "code",
      "metadata": {
        "id": "YAuTMtesYAW5",
        "colab": {
          "base_uri": "https://localhost:8080/",
          "height": 545
        },
        "outputId": "7baf840c-6469-4083-acde-689fca631dac"
      },
      "source": [
        "acc = history.history['accuracy']\n",
        "val_acc = history.history['val_accuracy']\n",
        "loss = history.history['loss']\n",
        "val_loss = history.history['val_loss']\n",
        "epochs = range(1, len(acc) + 1)\n",
        "\n",
        "\n",
        "#Train and validation accuracy\n",
        "plt.plot(epochs, acc, 'b', label='Training accurarcy')\n",
        "plt.plot(epochs, val_acc, 'r', label='Validation accurarcy')\n",
        "plt.title('Training and Validation accurarcy')\n",
        "plt.legend()\n",
        "\n",
        "plt.figure()\n",
        "\n",
        "\n",
        "#Train and validation loss\n",
        "plt.plot(epochs, loss, 'b', label='Training loss')\n",
        "plt.plot(epochs, val_loss, 'r', label='Validation loss')\n",
        "plt.title('Training and Validation loss')\n",
        "plt.legend()\n",
        "plt.show()\n"
      ],
      "execution_count": null,
      "outputs": [
        {
          "output_type": "display_data",
          "data": {
            "image/png": "[encoded data removed]",
            "text/plain": [
              "<Figure size 432x288 with 1 Axes>"
            ]
          },
          "metadata": {
            "needs_background": "light"
          }
        },
        {
          "output_type": "display_data",
          "data": {
            "image/png": "[encoded data removed]",
            "text/plain": [
              "<Figure size 432x288 with 1 Axes>"
            ]
          },
          "metadata": {
            "needs_background": "light"
          }
        }
      ]
    },
    {
      "cell_type": "code",
      "metadata": {
        "id": "iU0KGy2tZdzb",
        "colab": {
          "base_uri": "https://localhost:8080/"
        },
        "outputId": "8655e58b-5f59-471c-87d3-25753776a94f"
      },
      "source": [
        "history.history"
      ],
      "execution_count": null,
      "outputs": [
        {
          "output_type": "execute_result",
          "data": {
            "text/plain": [
              "{'accuracy': [0.6481364369392395,\n",
              "  0.8401768803596497,\n",
              "  0.880606472492218,\n",
              "  0.8675000071525574,\n",
              "  0.920404314994812,\n",
              "  0.9543750286102295,\n",
              "  0.9775000214576721,\n",
              "  0.9804169535636902,\n",
              "  0.9930511713027954,\n",
              "  0.9854706525802612,\n",
              "  0.9595704078674316,\n",
              "  0.9753632545471191,\n",
              "  0.9955779910087585,\n",
              "  0.9968414306640625,\n",
              "  0.9981048703193665,\n",
              "  0.9968414306640625,\n",
              "  0.9993749856948853,\n",
              "  0.9981048703193665,\n",
              "  0.998736560344696,\n",
              "  0.9993749856948853,\n",
              "  0.9993749856948853,\n",
              "  0.9993683099746704,\n",
              "  0.998736560344696,\n",
              "  0.9974731802940369,\n",
              "  0.998736560344696,\n",
              "  0.9993683099746704,\n",
              "  0.9993683099746704,\n",
              "  1.0,\n",
              "  0.9993683099746704,\n",
              "  1.0,\n",
              "  0.9993683099746704,\n",
              "  0.998736560344696,\n",
              "  0.9993683099746704,\n",
              "  0.9993749856948853,\n",
              "  1.0,\n",
              "  0.9993749856948853,\n",
              "  0.9987499713897705,\n",
              "  0.998736560344696,\n",
              "  0.998736560344696,\n",
              "  0.998736560344696],\n",
              " 'loss': [0.5922532081604004,\n",
              "  0.39450737833976746,\n",
              "  0.28955137729644775,\n",
              "  0.31345057487487793,\n",
              "  0.2004302442073822,\n",
              "  0.11992574483156204,\n",
              "  0.061982136219739914,\n",
              "  0.050561822950839996,\n",
              "  0.021498724818229675,\n",
              "  0.03715917468070984,\n",
              "  0.12774141132831573,\n",
              "  0.07683850824832916,\n",
              "  0.015468182973563671,\n",
              "  0.009438743814826012,\n",
              "  0.005050453823059797,\n",
              "  0.008859040215611458,\n",
              "  0.003828774904832244,\n",
              "  0.0039223311468958855,\n",
              "  0.00391372898593545,\n",
              "  0.0023268787190318108,\n",
              "  0.0019899243488907814,\n",
              "  0.0012368973111733794,\n",
              "  0.002925458364188671,\n",
              "  0.003614784451201558,\n",
              "  0.004920652136206627,\n",
              "  0.002877879422158003,\n",
              "  0.0010083906818181276,\n",
              "  0.00033876733505167067,\n",
              "  0.0009882251033559442,\n",
              "  0.0006519612506963313,\n",
              "  0.0025086209643632174,\n",
              "  0.0027003400027751923,\n",
              "  0.0014471535105258226,\n",
              "  0.0015102948527783155,\n",
              "  0.0005614589899778366,\n",
              "  0.001228717970661819,\n",
              "  0.001418402185663581,\n",
              "  0.0027353232726454735,\n",
              "  0.002723991870880127,\n",
              "  0.001390322926454246],\n",
              " 'val_accuracy': [0.84765625,\n",
              "  0.88671875,\n",
              "  0.912109375,\n",
              "  0.9296875,\n",
              "  0.951171875,\n",
              "  0.986328125,\n",
              "  0.974609375,\n",
              "  0.9921875,\n",
              "  0.98828125,\n",
              "  0.9921875,\n",
              "  0.94140625,\n",
              "  0.990234375,\n",
              "  0.994140625,\n",
              "  0.994140625,\n",
              "  0.994140625,\n",
              "  0.990234375,\n",
              "  0.99609375,\n",
              "  0.99609375,\n",
              "  0.99609375,\n",
              "  0.994140625,\n",
              "  0.99609375,\n",
              "  0.99609375,\n",
              "  0.994140625,\n",
              "  0.994140625,\n",
              "  0.994140625,\n",
              "  0.994140625,\n",
              "  0.994140625,\n",
              "  0.994140625,\n",
              "  0.994140625,\n",
              "  0.994140625,\n",
              "  0.994140625,\n",
              "  0.994140625,\n",
              "  0.99609375,\n",
              "  0.994140625,\n",
              "  0.99609375,\n",
              "  0.994140625,\n",
              "  0.994140625,\n",
              "  0.9921875,\n",
              "  0.994140625,\n",
              "  0.994140625],\n",
              " 'val_loss': [0.432672381401062,\n",
              "  0.2707386910915375,\n",
              "  0.27354681491851807,\n",
              "  0.17826807498931885,\n",
              "  0.1436900645494461,\n",
              "  0.056820373982191086,\n",
              "  0.07757178694009781,\n",
              "  0.025658102706074715,\n",
              "  0.04953380674123764,\n",
              "  0.020220020785927773,\n",
              "  0.2283276468515396,\n",
              "  0.030512716621160507,\n",
              "  0.022547151893377304,\n",
              "  0.0170830637216568,\n",
              "  0.019818970933556557,\n",
              "  0.020532025024294853,\n",
              "  0.01674904301762581,\n",
              "  0.014658324420452118,\n",
              "  0.012001685798168182,\n",
              "  0.014083975926041603,\n",
              "  0.010534090921282768,\n",
              "  0.009798717685043812,\n",
              "  0.012566279619932175,\n",
              "  0.02018796093761921,\n",
              "  0.017783230170607567,\n",
              "  0.015568366274237633,\n",
              "  0.014404748566448689,\n",
              "  0.011175802908837795,\n",
              "  0.010465962812304497,\n",
              "  0.010320795699954033,\n",
              "  0.013514087535440922,\n",
              "  0.01399073377251625,\n",
              "  0.011782531626522541,\n",
              "  0.011582564562559128,\n",
              "  0.010586255230009556,\n",
              "  0.009693911299109459,\n",
              "  0.013933872804045677,\n",
              "  0.016391554847359657,\n",
              "  0.01714031770825386,\n",
              "  0.01629362441599369]}"
            ]
          },
          "metadata": {},
          "execution_count": 12
        }
      ]
    },
    {
      "cell_type": "code",
      "metadata": {
        "id": "m5tT54Z6UAWv"
      },
      "source": [
        "def predictImage(filename,c1_name,c2_name):\n",
        "    img1 = image.load_img(filename,target_size=(150,150))\n",
        "    \n",
        "    plt.imshow(img1)\n",
        " \n",
        "    Y = image.img_to_array(img1)\n",
        "    \n",
        "    X = np.expand_dims(Y,axis=0)\n",
        "    val = model.predict(X)[0][0]\n",
        "    print('pred_val: ',val)\n",
        "    val = round(val)\n",
        "    print('rounded: ',val)\n",
        "    if val == 1:\n",
        "        \n",
        "        plt.xlabel(c1_name,fontsize=12)\n",
        "        \n",
        "    \n",
        "    elif val == 0:\n",
        "        \n",
        "        plt.xlabel(c2_name,fontsize=12)\n"
      ],
      "execution_count": null,
      "outputs": []
    },
    {
      "cell_type": "code",
      "metadata": {
        "id": "maJbeR22akdw",
        "colab": {
          "base_uri": "https://localhost:8080/",
          "height": 323
        },
        "outputId": "a9f08c46-ab2a-4322-92e5-1e73d48e3d4f"
      },
      "source": [
        "subdirs = os.listdir(test_path)\n",
        "\n",
        "random_folder = subdirs[randint(0,1)]\n",
        "\n",
        "folder_path = os.path.join(test_path,random_folder)\n",
        "\n",
        "images = os.listdir(folder_path)\n",
        "\n",
        "random_image_path = os.path.join(folder_path,images[randint(0,len(images)-1)])\n",
        "\n",
        "predictImage(random_image_path,label1,label2)\n"
      ],
      "execution_count": null,
      "outputs": [
        {
          "output_type": "stream",
          "name": "stdout",
          "text": [
            "pred_val:  0.0\n",
            "rounded:  0\n"
          ]
        },
        {
          "output_type": "display_data",
          "data": {
            "image/png": "[encoded data removed]",
            "text/plain": [
              "<Figure size 432x288 with 1 Axes>"
            ]
          },
          "metadata": {
            "needs_background": "light"
          }
        }
      ]
    },
    {
      "cell_type": "code",
      "metadata": {
        "colab": {
          "base_uri": "https://localhost:8080/"
        },
        "id": "kTeJY-NAbITL",
        "outputId": "739efb2e-a8ea-42d4-9ed4-05e8d547c5aa"
      },
      "source": [
        "os.listdir(folder_path)"
      ],
      "execution_count": null,
      "outputs": [
        {
          "output_type": "execute_result",
          "data": {
            "text/plain": [
              "['00f16858-f392-4d9e-ad9f-efab8049a13f___JR_Sept.L.S 8368.JPG',\n",
              " '0a70601b-8511-4a56-9562-c95c46372874___Matt.S_CG 1032.JPG',\n",
              " '0a5edec2-e297-4a25-86fc-78f03772c100___JR_Sept.L.S 8468.JPG',\n",
              " '0a76257e-6a78-459b-8f51-a266805121eb___Matt.S_CG 2527.JPG',\n",
              " '0b23b869-cfa6-40d7-a683-f4637d91ebff___Matt.S_CG 1286.JPG',\n",
              " '0a146952-538a-41e5-a422-b5d50e91771e___Matt.S_CG 6079.JPG',\n",
              " '0aa486df-97b6-4764-89a9-d193e16aabbb___Keller.St_CG 1931.JPG',\n",
              " '0af9f990-ad92-4411-8623-4498ca4805ce___Keller.St_CG 1942.JPG',\n",
              " '0c1aa7e5-a820-4fb8-8bc2-623a6056e749___JR_Sept.L.S 2659.JPG',\n",
              " '0c48052c-232b-4ea7-b77d-322f5f642612___Matt.S_CG 7724.JPG',\n",
              " '0bbf4db7-38a1-4d5c-8fd7-503e9f37ef8f___Matt.S_CG 7848.JPG',\n",
              " '0b6a9374-858d-49ce-8a94-ab57c957718c___Matt.S_CG 2488.JPG',\n",
              " '0b4886e5-a065-44c1-aa19-bd166922d3de___JR_Sept.L.S 8498.JPG',\n",
              " '0bcb24a9-bf45-4008-b9df-1c729f977b17___Matt.S_CG 7835.JPG',\n",
              " '0c4935b6-8f13-4148-b5e6-19404d49fc78___Matt.S_CG 2733.JPG',\n",
              " '0ca7ed02-4540-47df-b01d-194b23226a2d___Matt.S_CG 1733.JPG',\n",
              " '1c94b8af-21b7-43b5-b6ff-a5f7a3ad0a6e___Matt.S_CG 1727.JPG',\n",
              " '1f51fffd-4e03-4aca-be68-d78e12538d50___Matt.S_CG 7451.JPG',\n",
              " '1ea484d8-6ebf-4d95-81b1-1c7f78e92015___JR_Sept.L.S 8425.JPG',\n",
              " '0d1d305a-e4d1-4037-b0bd-1276c5200488___Matt.S_CG 1542.JPG',\n",
              " '1cffba8e-40e0-43ce-914b-c184feb2cb2e___Matt.S_CG 7401.JPG',\n",
              " '0edb366d-1253-4498-a05a-8f666405edc6___Matt.S_CG 7862.JPG',\n",
              " '2a7760ee-1b7c-437d-8f47-b6a65c6a3d9c___JR_Sept.L.S 2569.JPG',\n",
              " '1a555e99-78f6-459f-8572-b877b2e7b73c___Matt.S_CG 7415.JPG',\n",
              " '0d1ab917-ea01-43d7-8a63-232bffcfbb08___Keller.St_CG 1769.JPG',\n",
              " '0ab271a7-765e-4675-8bfc-e249c0c86fdd___Keller.St_CG 1778.JPG',\n",
              " '1fef5339-704d-456a-a7b8-85014c9c8600___JR_Sept.L.S 8489.JPG',\n",
              " '2a136f24-b2aa-42c6-b70b-78a95761d863___Matt.S_CG 6884.JPG',\n",
              " '1c7bc7c5-daec-45bd-beb9-89beb159c755___Keller.St_CG 2018.JPG',\n",
              " '0d12d6ee-bc90-413e-8638-e476cd8ba8ee___Keller.St_CG 1840.JPG',\n",
              " '1e8f411c-7f6b-42c0-8c84-70486b6c91d1___Keller.St_CG 1824.JPG',\n",
              " '0cba2d69-c73b-472b-9fc1-beca9b3f02a0___JR_Sept.L.S 8369.JPG',\n",
              " '1ad425d4-caa9-44da-b99f-a951fda7ec94___Keller.St_CG 1835.JPG',\n",
              " '1c9a19ab-15e6-4af9-9130-603a329f356e___Matt.S_CG 7520.JPG',\n",
              " '1f9fe103-ec5a-4ebb-bd93-14c97537dd3a___Matt.S_CG 6572.JPG',\n",
              " '2b63b39d-7d3b-4421-9d68-b81b0862977b___Keller.St_CG 2025.JPG',\n",
              " '1f8a9dd1-e501-430d-9c80-7eaf0904961c___Matt.S_CG 2477.JPG',\n",
              " '0b36c5a2-6c9f-40d9-af4b-d4b0e66997da___Matt.S_CG 6653.JPG',\n",
              " '0ea612c0-8416-4771-a8bb-d5d255800f94___JR_Sept.L.S 8533.JPG',\n",
              " '0ef9804e-d695-40e4-8950-08551255fa05___JR_Sept.L.S 8540.JPG',\n",
              " '1dbd5efc-4fec-40a2-aca2-d257a7ad823b___Matt.S_CG 2598.JPG',\n",
              " '1f11a23b-8dd3-4fc8-82cf-235cfcdaf5b2___Matt.S_CG 2783.JPG',\n",
              " '1ecc0c20-9ef3-40af-a8d8-9a43463a26b4___Matt.S_CG 7654.JPG',\n",
              " '0df95a30-e5bd-4fec-8271-c2de4e79a7e7___Keller.St_CG 1978.JPG',\n",
              " '1f7fb33a-b74e-465c-ac76-8c3866931a3d___Keller.St_CG 2011.JPG',\n",
              " '2b41bbcb-2c9b-462f-8f87-474547ef618c___Matt.S_CG 0789.JPG',\n",
              " '1a3965e0-423a-4003-ae8d-2fb639d02008___JR_Sept.L.S 8449.JPG',\n",
              " '1f755e56-f38f-44ef-8076-d82c302c4539___JR_Sept.L.S 8407.JPG',\n",
              " '1c1dd567-a2fd-4dc5-8034-aee3c4a259a0___Matt.S_CG 7799.JPG',\n",
              " '2a803f39-ff07-4e5d-aabc-4941aaa81472___JR_Sept.L.S 2458.JPG',\n",
              " '1fea28dc-c071-4373-af8c-97e8d0646044___JR_Sept.L.S 2596.JPG',\n",
              " '1c85a28a-19b9-487a-b9e4-0e6d7c08e4a8___Keller.St_CG 1771.JPG',\n",
              " '1a02cfc4-375a-4be1-82a6-fa7ec5117ced___Matt.S_CG 6049.JPG',\n",
              " '2c4f9430-88b0-4796-a4b1-5dd262650f40___Matt.S_CG 6195.JPG',\n",
              " '1da58848-43c5-44ce-974e-bdd0b3c6e7d5___JR_Sept.L.S 8363.JPG',\n",
              " '0ebf0c98-aeb9-4630-afa0-0c9a2dc32995___Matt.S_CG 6233.JPG',\n",
              " '1a88e419-7d5c-45c7-a10f-4e1f80280cd2___Matt.S_CG 1584.JPG',\n",
              " '1d3dc5a7-5c0a-4852-8210-b06eede5d40a___Matt.S_CG 6071.JPG',\n",
              " '1f55c2e9-67b2-4377-a426-4932a77c3439___Matt.S_CG 7778.JPG',\n",
              " '2aeb1e96-7755-4378-b423-2f2116e56db6___JR_Sept.L.S 2570.JPG',\n",
              " '1a10c809-8303-4457-9875-bedd4eb9625b___Matt.S_CG 7777.JPG',\n",
              " '1c721799-1ac2-47dd-8bc5-3f9414a34534___Matt.S_CG 7482.JPG',\n",
              " '2be16c12-1422-4ef0-a070-474085e4cef8___Matt.S_CG 6622.JPG',\n",
              " '1e427d73-cd81-4476-9427-4854a10ea894___JR_Sept.L.S 2689.JPG',\n",
              " '1a2ce36b-89e9-43ea-9e54-b2da024c08fc___JR_Sept.L.S 8532.JPG',\n",
              " '2b526b63-b759-4187-ab73-ce49ebb07191___JR_Sept.L.S 2681.JPG',\n",
              " '2b400c69-36a9-4b78-90a0-3702cd38c896___Matt.S_CG 6876.JPG',\n",
              " '1c7e9ef5-bf97-4e53-b6c1-7fd148d043d5___Matt.S_CG 6482.JPG',\n",
              " '02b079eb-8c74-42bf-b956-d3aecdb9d4ad___JR_Sept.L.S 8522.JPG',\n",
              " '1b6fd6e2-8917-473f-9c8c-b14f639e13a9___JR_Sept.L.S 2709.JPG',\n",
              " '01f54ad9-9c03-4ffd-86f4-829fc2939120___Matt.S_CG 0702.JPG',\n",
              " '02d2c484-8bdb-4ef2-8d07-0bdb3ac330cc___Matt.S_CG 0975.JPG',\n",
              " '1db21865-b74f-40ab-9a9b-ac7c0e512058___Matt.S_CG 2428.JPG',\n",
              " '2c032ba1-d4fa-4a66-be5e-9e43a28ffbb9___JR_Sept.L.S 2701.JPG',\n",
              " '2c14cebf-97c1-4ee4-a247-f9e181234319___JR_Sept.L.S 2563.JPG',\n",
              " '2c51b21d-6890-491a-9fd0-08fd5628f26f___Matt.S_CG 7598.JPG',\n",
              " '2c368f9a-5098-4a37-b127-477f1978ff78___Matt.S_CG 7499.JPG',\n",
              " '2ca0f649-659c-458d-aaed-d51529372633___Keller.St_CG 1888.JPG',\n",
              " '2dbb244d-4879-4607-82e9-1cd28ebee0da___Matt.S_CG 7813.JPG',\n",
              " '2cbfb4e3-8327-470f-91b1-4b7c3823b1f1___Keller.St_CG 1909.JPG',\n",
              " '2d0ef151-4728-4b00-b70c-ab59ef5d5f9e___Matt.S_CG 6455.JPG',\n",
              " '2e69e7bc-a60d-43b4-84f9-637c90eb71bb___JR_Sept.L.S 8538.JPG',\n",
              " '2cf6759a-c628-4861-a83d-b009c83682a2___Matt.S_CG 7674.JPG',\n",
              " '2e129fc6-f9d3-41d3-a562-c69e72871006___Matt.S_CG 0982.JPG',\n",
              " '2d9f575c-7ce7-43d7-be22-fbbf53361ba5___Matt.S_CG 6855.JPG',\n",
              " '2d3f0833-4493-456b-a333-610ec35c92d0___JR_Sept.L.S 2705.JPG',\n",
              " '2c6932ac-9d51-4af0-93a9-89b639fb9c12___Keller.St_CG 1920.JPG',\n",
              " '2e656e51-9eab-4873-9a8e-f27811215256___Matt.S_CG 2509.JPG',\n",
              " '2dd9eb69-138d-4cb6-98f6-e328c5ea25e1___Matt.S_CG 1359.JPG',\n",
              " '2dd57351-b1c3-43c0-a15c-506bab1e803f___JR_Sept.L.S 2507.JPG',\n",
              " '2d640131-6b73-4b67-bb77-00266ff41bb8___JR_Sept.L.S 8531.JPG',\n",
              " '2e8ffaaa-1ddd-436d-8672-b3274acf0067___Matt.S_CG 7806.JPG',\n",
              " '2cb00d76-a875-4c94-a383-6e55534d1506___JR_Sept.L.S 8507.JPG',\n",
              " '2e679a03-6f3e-45f9-a567-7ecc4a631d76___Keller.St_CG 1907.JPG',\n",
              " '2e9928ec-5f57-4587-bbc3-18e30d2938e3___JR_Sept.L.S 8373.JPG',\n",
              " '2eabb4bc-329d-4d5d-a4ee-a7a28d15faae___Matt.S_CG 1493.JPG',\n",
              " '2eb010be-cfb9-40cf-9b69-0521e5ecf2a1___Matt.S_CG 1263.JPG',\n",
              " '2f4afdee-f957-400f-8515-4ea92173d00d___Matt.S_CG 0667.JPG',\n",
              " '2f8bcf08-19de-4aa3-a60d-fa6593a53359___JR_Sept.L.S 2679.JPG',\n",
              " '2f5e144b-cf8f-4882-8ee5-10eafb8778cc___Matt.S_CG 7579.JPG',\n",
              " '2f161206-d4aa-4e2a-a0a5-96213d42198d___JR_Sept.L.S 2589.JPG',\n",
              " '2ff033e7-73ea-49aa-b81a-164963cc464d___Matt.S_CG 6638.JPG',\n",
              " '2fed0190-d484-415f-9ae2-84707eb8a294___Matt.S_CG 1617.JPG',\n",
              " '03b3e88f-63ad-49e1-88c2-b8bfffd6aaf6___Matt.S_CG 1226.JPG',\n",
              " '3a1f89c1-9f3b-47ec-aafc-7f2ba2558d6d___Matt.S_CG 6856.JPG',\n",
              " '3af1fd7b-aca5-405e-b4ab-3615eaa6c0df___Matt.S_CG 6915.JPG',\n",
              " '3ba26d58-4f12-49ac-b818-e32b953a81ee___JR_Sept.L.S 2655.JPG',\n",
              " '3c27af36-d824-4251-97ca-0dc1f0c60d61___Matt.S_CG 7685.JPG',\n",
              " '3c553993-c2e9-40f3-b65e-5fa1170b5bb7___Keller.St_CG 1839.JPG',\n",
              " '3b8e8f98-bbc7-446d-82a9-5130e10f1b4a___Matt.S_CG 6618.JPG',\n",
              " '3c128fd7-83d2-4202-b612-7e29f1ac4357___Matt.S_CG 2437.JPG',\n",
              " '3d9cf11d-eb78-481a-a94a-ca6629b757a0___Matt.S_CG 7453.JPG',\n",
              " '3c70a1cb-bb92-4bf1-a742-0622d1616003___Keller.St_CG 1915.JPG',\n",
              " '3d91b473-6309-4310-9acd-e66dacaf789f___Keller.St_CG 1991.JPG',\n",
              " '3d42d770-69c1-421e-ae00-56f8d0bd500f___Matt.S_CG 7414.JPG',\n",
              " '3d638a43-43eb-4f93-85bf-b1cc41ab117f___Matt.S_CG 0751.JPG',\n",
              " '3dd32fea-62e8-4ae9-b307-5513e845b519___JR_Sept.L.S 2663.JPG',\n",
              " '3e36cafb-f2f4-4c51-9853-85fd7f1eb817___Keller.St_CG 1795.JPG',\n",
              " '3ed40b55-9410-41c7-91cd-1e2f771d5888___Matt.S_CG 7723.JPG',\n",
              " '3f6c0ef0-068b-4566-a643-9a368d50bdc4___JR_Sept.L.S 8380.JPG',\n",
              " '3f4788c4-a2fe-4c9f-907c-5d5dd4f5395c___Matt.S_CG 1143.JPG',\n",
              " '3f310f1d-9837-4e44-ab1e-cfd22cae224b___JR_Sept.L.S 8386.JPG',\n",
              " '3fc4d8fe-a68b-4d84-b987-be97052f0436___Matt.S_CG 6570.JPG',\n",
              " '3ff747b1-7cec-42e2-a938-9af10afeab8c___Matt.S_CG 1285.JPG',\n",
              " '04c912dc-3e26-43ff-a6e3-69de49a6e529___JR_Sept.L.S 8519.JPG',\n",
              " '4a0b5c52-3bd4-4f31-836d-5bf512587a3e___Matt.S_CG 6300.JPG',\n",
              " '04eb9fee-df68-4917-a639-d68e12c08bbc___JR_Sept.L.S 8475.JPG',\n",
              " '4a07823f-bbfe-4880-bbae-59fd1ae9de33___Matt.S_CG 6687.JPG',\n",
              " '4a699992-4610-4a4f-98d3-942fc402731a___Matt.S_CG 2679.JPG',\n",
              " '4ae88e50-d807-45d7-b587-5242a2464764___JR_Sept.L.S 2618.JPG',\n",
              " '4b712088-62f3-43ff-8358-6f07279f0b8c___Keller.St_CG 1961.JPG',\n",
              " '4b0ff251-1da4-4f9c-bf92-46441043c6cf___Keller.St_CG 1951.JPG',\n",
              " '4bdfdc7b-5822-45b6-8c3f-65df82717447___Keller.St_CG 1897.JPG',\n",
              " '4c3efc57-6a59-4d52-bd77-1dd4efbfba72___JR_Sept.L.S 2614.JPG',\n",
              " '4c7b64ad-9bc8-4f71-b481-13ab966f8d6a___Matt.S_CG 7393.JPG',\n",
              " '4c17268b-94cd-4cc6-979a-d84a81c9fa7f___Matt.S_CG 1503.JPG',\n",
              " '4ca205ed-57b5-4d2a-ba00-a706e9b9ffed___Keller.St_CG 1966.JPG',\n",
              " '4d114914-9a79-4556-8b94-ae1a2df053cc___Matt.S_CG 0717.JPG',\n",
              " '4dc663c9-994d-4204-ae40-30d5eab53bc9___Matt.S_CG 0678.JPG',\n",
              " '4dca99fe-1184-4728-874c-f902bc48f934___JR_Sept.L.S 8453.JPG',\n",
              " '4e41fd20-20df-48ef-9e9b-d916950ceda8___Matt.S_CG 1309.JPG',\n",
              " '4e91dd84-5a88-4b2f-8c08-b48a1c0bfc4c___Matt.S_CG 6575.JPG',\n",
              " '4e868db4-c951-461f-ab77-562aa6456746___JR_Sept.L.S 8553.JPG',\n",
              " '4ebf92f9-6f78-4a23-a244-35c89106ea18___Keller.St_CG 1808.JPG',\n",
              " '4f35adfa-03b3-4562-b970-19548dda84d1___Matt.S_CG 2457.JPG',\n",
              " '4f45a4b4-342b-4422-87b9-8386a6801ba1___JR_Sept.L.S 2566.JPG',\n",
              " '4ff32de5-d688-468f-b6db-9cb89e12f6f4___Matt.S_CG 2762.JPG',\n",
              " '4ff7ff02-1fce-4994-bea2-bc46bd60fa4f___JR_Sept.L.S 8501.JPG',\n",
              " '5a43b236-f091-4e4b-8b17-b7fe3a6515d3___JR_Sept.L.S 8390.JPG',\n",
              " '5a79c447-4d9d-4daf-81a6-c23a00480a93___Matt.S_CG 2473.JPG',\n",
              " '5b0cd135-94b9-4591-966c-0257a0beea5e___JR_Sept.L.S 8486.JPG',\n",
              " '5a821b14-10d8-49ad-9e16-be2eeef81d4f___Matt.S_CG 7434.JPG',\n",
              " '5b01bfdf-a1ef-49c8-9247-c98eac4ec5fb___JR_Sept.L.S 8422.JPG',\n",
              " '5b1c13ef-e560-4479-869c-8d52ac4cf559___JR_Sept.L.S 2517.JPG',\n",
              " '5b7a00b3-b25d-49c9-9ce5-e0f4e2921e38___Matt.S_CG 2718.JPG',\n",
              " '5b70236c-4228-4c9a-b1c5-783225d6b3bb___JR_Sept.L.S 2519.JPG',\n",
              " '5ba3b6f4-7b05-4588-8063-078c48268e88___Keller.St_CG 1935.JPG',\n",
              " '5c1e834e-f555-4ca5-b67b-330027937e1d___Matt.S_CG 1405.JPG',\n",
              " '5c2f5353-dfee-4a06-83a9-55b219eca458___Matt.S_CG 1262.JPG',\n",
              " '5e8d580c-23b6-44e4-bfef-488708a95dab___Matt.S_CG 6186.JPG',\n",
              " '5e53b114-be67-4f52-9727-904f7521451a___Matt.S_CG 0694.JPG',\n",
              " '5f6a639a-a545-4778-b5e8-c45a62cacfe2___Matt.S_CG 0812.JPG',\n",
              " '5e53810f-d7fe-40af-aaa4-7753d1f265e2___JR_Sept.L.S 2528.JPG',\n",
              " '5ef12ea0-b2bc-4c2c-a5e4-7cc26e57c626___Keller.St_CG 1768.JPG',\n",
              " '006c018a-bb21-4a24-b1ff-d8b2864a7354___Matt.S_CG 6192.JPG',\n",
              " '5be70ee0-f463-488c-b0e5-377994a0cf45___JR_Sept.L.S 2502.JPG',\n",
              " '5bf5bfc0-8efe-4f29-814d-c6e594af2ba2___Matt.S_CG 7844.JPG',\n",
              " '5f7491e4-9eff-428c-a20d-06717a46e6a6___Matt.S_CG 7396.JPG',\n",
              " '6a3ae349-27f8-468c-a1ad-7ddfc31e3435___JR_Sept.L.S 2471.JPG',\n",
              " '6a29f136-d22e-470f-9ea1-447c5f3d410d___Matt.S_CG 7471.JPG',\n",
              " '5d4fc217-1da5-4459-86af-14d60427f77d___Keller.St_CG 1850.JPG',\n",
              " '5d323cba-03e6-402c-b2fd-19d00f751c31___Matt.S_CG 6742.JPG',\n",
              " '5eceb9db-6355-445e-96b6-1644fab0dea7___Matt.S_CG 2774.JPG',\n",
              " '5f2b2f49-dc97-43ae-9213-5d8a19a0e61d___Matt.S_CG 7372.JPG',\n",
              " '5f021626-60b3-40a4-8c2c-11a53d93b0ca___Matt.S_CG 7586.JPG',\n",
              " '6c9cd159-1f95-4459-a308-fde523b58c89___Matt.S_CG 7559.JPG',\n",
              " '5ec061cf-53c5-40a6-84ee-e4926c264549___Matt.S_CG 1708.JPG',\n",
              " '5cf704c0-88d3-46fd-9cab-196a86adbcfd___JR_Sept.L.S 2558.JPG',\n",
              " '5d6bdcbf-b75a-4562-917f-4d902fa3b6b0___JR_Sept.L.S 2620.JPG',\n",
              " '6a4518f8-37a5-4c96-ab5d-5cb75f6e24b2___JR_Sept.L.S 8444.JPG',\n",
              " '6b1b7993-cac0-458a-a7d3-e807f9008083___JR_Sept.L.S 2683.JPG',\n",
              " '6c1b63f7-56c7-41e0-a0f3-757775cd6fea___Matt.S_CG 7855.JPG',\n",
              " '6caf6191-1845-4ab6-abc2-66b371355679___Matt.S_CG 1572.JPG',\n",
              " '6cd819ce-a0e5-46b4-b0ed-1991580f0fd4___Matt.S_CG 2493.JPG',\n",
              " '6aad1489-2ff3-4b26-a037-45e56f572ad7___JR_Sept.L.S 2690.JPG',\n",
              " '5b1cddec-5f48-441e-b9ad-1675d021c601___Matt.S_CG 6508.JPG',\n",
              " '6bda66a5-562c-4ad9-9e14-7d76dcbd4eef___Keller.St_CG 1880.JPG',\n",
              " '6bb03663-2989-4c0b-8aba-bedc9e3430eb___JR_Sept.L.S 2607.JPG',\n",
              " '6a04517f-4377-4f85-a0de-96cdf3491896___Matt.S_CG 6236.JPG',\n",
              " '6b4bcc3a-93f3-4b30-aa76-4af6113377a9___Keller.St_CG 1928.JPG',\n",
              " '6cebad3a-afa4-4c38-9bcc-3977af4434d1___Matt.S_CG 2793.JPG',\n",
              " '6d01e191-a269-45c0-9212-53a678c037b3___Keller.St_CG 1932.JPG',\n",
              " '6d7faf0d-1f04-4aba-a0aa-21c36ed89881___Matt.S_CG 6775.JPG',\n",
              " '6d8ec33d-fbf6-433d-acd9-feaa72ab839a___Matt.S_CG 7609.JPG',\n",
              " '6de3f347-a423-4c54-aa6f-bd80efa674e2___Matt.S_CG 6164.JPG',\n",
              " '6dcca219-2671-49d7-82f4-dac9571aae01___Matt.S_CG 1030.JPG',\n",
              " '6d1173c5-9374-46a5-ba0d-e2f72b95e6b2___Matt.S_CG 7851.JPG',\n",
              " '6df33a72-0479-4e76-9299-d1bb8745fc34___Matt.S_CG 6092.JPG',\n",
              " '6e9a45b0-7c4e-4b6b-abb4-6a2667810679___Keller.St_CG 1960.JPG',\n",
              " '6ab1d41b-ce72-4019-9852-5627d34aa0e2___JR_Sept.L.S 2711.JPG',\n",
              " '6e585c69-cde5-4a6c-ac40-24951f72e16a___Keller.St_CG 1964.JPG',\n",
              " '6e99980a-8268-46ae-8f19-301f7b674638___Matt.S_CG 6073.JPG',\n",
              " '6e62204d-cfcf-4b46-8889-b98fc1821b47___Keller.St_CG 1872.JPG',\n",
              " '6e179382-44e9-4032-b6cb-81c631134922___JR_Sept.L.S 8359.JPG',\n",
              " '6ee71e64-8b63-4f36-9bad-2893317445b4___Matt.S_CG 0685.JPG',\n",
              " '6eefe3d9-fe0a-4e1c-a297-4009e7d37d56___Matt.S_CG 6490.JPG',\n",
              " '6f564ce5-7595-469a-8db2-cfa8523ae647___Matt.S_CG 1546.JPG',\n",
              " '6fa4e32f-6cf3-48d7-9adb-b0282f3da27b___Matt.S_CG 7460.JPG',\n",
              " '07a4190c-b0c0-4e03-9ad5-474938c837d2___Matt.S_CG 1242.JPG',\n",
              " '6fe85fcb-85fd-46cb-b3f3-6039dc935e79___Matt.S_CG 7532.JPG',\n",
              " '07e5a836-f1d6-4fc3-8847-09c8f9c368ec___Matt.S_CG 6089.JPG',\n",
              " '7a7c032c-bc58-43c0-9bf7-26be8baf2660___Matt.S_CG 7605.JPG',\n",
              " '7a469155-1492-4f16-b352-d4e99b3e94a2___Matt.S_CG 0838.JPG',\n",
              " '7a21a34c-b9a4-4a3a-8413-da52065d6415___Matt.S_CG 6773.JPG',\n",
              " '7acf3e7e-f428-43c4-8b79-f8689838aebc___Matt.S_CG 2491.JPG',\n",
              " '7b1b944d-0f5a-4b64-96cc-5eacfe0776ac___Matt.S_CG 6725.JPG',\n",
              " '7b0a795b-c370-40fe-b7ab-8308f73bee07___Matt.S_CG 6691.JPG',\n",
              " '7b80cd3e-fe02-4b63-8097-69f48b0b1bf0___JR_Sept.L.S 2631.JPG',\n",
              " '7b563a37-5a9a-4e6a-a1fb-f3d3e7c6027a___Matt.S_CG 6648.JPG',\n",
              " '7b5194d6-e0cf-4bc3-bb97-a1c6568e9bdc___Keller.St_CG 1773.JPG',\n",
              " '7c92fec0-46dd-4130-bf41-b054e974edff___Keller.St_CG 2007.JPG',\n",
              " '7cb27fc3-c967-4734-8c81-cabbcd7d322f___Keller.St_CG 2003.JPG',\n",
              " '7ca13a8f-089e-4e34-ae62-0cf875d2a2e9___Matt.S_CG 7487.JPG',\n",
              " '7cf44ad2-ebda-483c-b7f3-f010747e7cd7___Matt.S_CG 7613.JPG',\n",
              " '7cff434d-4e2f-4cda-a447-3439bbff4f89___Matt.S_CG 0805.JPG',\n",
              " '7d3e0bf0-b53a-46ec-b7e8-7429215079fb___Matt.S_CG 2685.JPG',\n",
              " '7a54c885-df65-4a4a-98b0-a0b5c914d8bb___Matt.S_CG 1057.JPG',\n",
              " '7ace174c-153c-42d2-9b51-212f42774d9d___Matt.S_CG 0898.JPG',\n",
              " '7d5b8ab6-0280-4b43-9748-21d803810857___JR_Sept.L.S 2560.JPG',\n",
              " '7d7a2dca-4df0-4aca-9f9b-4894b348bce4___JR_Sept.L.S 8528.JPG',\n",
              " '7d028ea6-331d-42ea-ad79-7a7a0d9149c6___Matt.S_CG 7720.JPG',\n",
              " '7d78f905-87d9-4a0d-8140-938e4a23534f___Keller.St_CG 1765.JPG',\n",
              " '7d767bb2-c00f-4c44-976e-e08a1b2f9909___Matt.S_CG 7618.JPG',\n",
              " '7dedb154-b3a3-4f5c-b529-9c44d4e3cd23___Matt.S_CG 7375.JPG',\n",
              " '7d2e7df9-0b0d-49dc-8161-7601f1cdcf5f___JR_Sept.L.S 2552.JPG',\n",
              " '7e5e84fb-af42-40b6-b2aa-d7e6bc569b1f___Matt.S_CG 7435.JPG',\n",
              " '7e5fd1ec-c8d2-4987-9c6c-5bfeb00853fe___Matt.S_CG 6798.JPG',\n",
              " '7dd7354c-7c02-4086-8b19-e6d8d4083c29___Matt.S_CG 6250.JPG',\n",
              " '7df39eb0-7372-4386-a09f-d04e446296da___Keller.St_CG 1783.JPG',\n",
              " '7e3a2a59-c4ed-47da-9176-6996ad3170df___JR_Sept.L.S 2556.JPG',\n",
              " '7f1a7403-f9d4-4910-9495-550a263c6e77___Matt.S_CG 7624.JPG',\n",
              " '7f851bf4-b472-4dc3-b7d5-23e877cf6547___Matt.S_CG 7802.JPG',\n",
              " '7f9588b9-0bdc-4c29-9d84-bddf86c9c453___Matt.S_CG 7383.JPG',\n",
              " '7ed442ab-2005-4fe8-98a6-82b1b4d7f1a9___Keller.St_CG 1843.JPG',\n",
              " '7fa38347-d1e6-4d31-9b90-50ac10cd11ee___Keller.St_CG 1988.JPG',\n",
              " '7ff1632f-91e4-4dd3-801d-e31885af4c41___Matt.S_CG 7578.JPG',\n",
              " '8a5a6fa0-17f1-42da-b7ee-406783e8666b___JR_Sept.L.S 8411.JPG',\n",
              " '8a7b0bc4-2641-4674-9ce7-6b69ab55f388___Matt.S_CG 6816.JPG',\n",
              " '8aa69183-3423-4d4e-88a2-640508f2ed4b___Matt.S_CG 6613.JPG',\n",
              " '8b9ca191-719d-40cf-9077-89d9534dee6b___JR_Sept.L.S 8457.JPG',\n",
              " '8aad671a-ce18-4cdb-9744-63eb859d40b7___Matt.S_CG 7650.JPG',\n",
              " '8b676993-b491-4580-ab66-d620c060d79e___Matt.S_CG 7456.JPG',\n",
              " '8b94c375-1eaf-4e17-b7ae-7718ab4c0b29___Matt.S_CG 5984.JPG',\n",
              " '8bcab1d2-d0fe-497d-9419-765c99ac6989___JR_Sept.L.S 8541.JPG',\n",
              " '8bcfea5e-26a6-4a7a-9a36-068298b89029___JR_Sept.L.S 8429.JPG',\n",
              " '7acd10ed-a101-4467-856a-f3483493182a___Keller.St_CG 1862.JPG',\n",
              " '8a90ed3e-79fb-40e4-b3f6-005013452e32___JR_Sept.L.S 2565.JPG',\n",
              " '8bf151ef-d3ca-47f9-b2d0-685ba9c5f229___Matt.S_CG 1453.JPG',\n",
              " '8bf6fb90-0c85-4adf-a416-1c4c54ea5782___Matt.S_CG 6009.JPG',\n",
              " '8be9c468-c2d3-40cd-bfc9-21c94fc81d0a___JR_Sept.L.S 2564.JPG',\n",
              " '3a287000-0306-4202-8eca-41ead0c1634c___Matt.S_CG 2440.JPG',\n",
              " '3b7f264d-4d60-46c4-9e36-f4f032d47c5b___Matt.S_CG 1523.JPG',\n",
              " '7c112fa6-8cb8-467d-a231-81989dc4cf00___Matt.S_CG 2711.JPG',\n",
              " '7c464f54-8a3e-45ad-a900-d7164e44cc0d___JR_Sept.L.S 8534.JPG',\n",
              " '7cf8bfef-e8d7-406b-b27c-e5e545096545___JR_Sept.L.S 8427.JPG',\n",
              " '7af43527-0276-4a56-9ed5-c0f6a3776e1e___Matt.S_CG 6823.JPG',\n",
              " '7b36c70b-3b45-4a18-b0fb-6f5da50d04f3___Matt.S_CG 1408.JPG',\n",
              " '7a54f605-84c0-4344-8fbd-69bd6b34eebd___JR_Sept.L.S 8547.JPG',\n",
              " '07dd57ec-cbf0-4fc1-b680-6b3226da51e4___JR_Sept.L.S 8524.JPG',\n",
              " '8cbaba7f-8b0b-4eea-a4ed-afd375a7c55a___JR_Sept.L.S 2720.JPG',\n",
              " '8c4da308-2be0-4f8b-8899-dac9eb728ad5___Matt.S_CG 1438.JPG',\n",
              " '8c5a5ad2-1ac9-4a19-a5ea-26ae87e0f4c4___JR_Sept.L.S 2538.JPG',\n",
              " '8d9de432-48bb-4a21-9288-6ea97064edb8___Keller.St_CG 1917.JPG',\n",
              " '8cf044ea-2e31-49b3-942e-2a74ce20dfe1___Matt.S_CG 7417.JPG',\n",
              " '7e80e827-c4ad-422d-8387-5679797db4ab___Matt.S_CG 1213.JPG',\n",
              " '8f5a4a7c-445b-4bb2-aa73-2c736733f82b___Matt.S_CG 7573.JPG',\n",
              " '8c73d17b-4821-4e52-9627-3914f7c89bce___JR_Sept.L.S 8481.JPG',\n",
              " '8e674c81-54a9-4da9-b764-db74f3f377fc___Matt.S_CG 6791.JPG',\n",
              " '8e5a724e-60a2-4cb7-9c77-639c36739b20___Matt.S_CG 7398.JPG',\n",
              " '8f2c9096-f0af-4f68-a0cb-9343ac4eacb2___Matt.S_CG 1228.JPG',\n",
              " '8eeef084-da1d-4b7d-af5e-ded3d7061b1d___Matt.S_CG 0797.JPG',\n",
              " '8e15b503-716a-4aa4-83f8-62c7d9aae2f1___Matt.S_CG 7655.JPG',\n",
              " '8f4a967e-a423-42a1-9e61-b665ff9b9cf9___Matt.S_CG 2606.JPG',\n",
              " '8e31852e-12b6-413d-9f09-c4d7608326b5___JR_Sept.L.S 2487.JPG',\n",
              " '8cfa4da1-02a0-4d53-80cb-ca8f92b05f47___Matt.S_CG 2880.JPG',\n",
              " '8ae83365-7729-450a-9a49-328ae36155af___JR_Sept.L.S 2510.JPG',\n",
              " '8d370ca1-f143-4298-bede-e495da068cc0___Matt.S_CG 1315.JPG',\n",
              " '8ddc7884-3f79-4284-8b11-bd68e156c5bf___Matt.S_CG 6554.JPG',\n",
              " '3acde329-875f-4fab-b09f-513714612d5c___Matt.S_CG 7476.JPG',\n",
              " '4c81baad-0278-40ad-a3ca-38a24cffb956___Keller.St_CG 1818.JPG',\n",
              " '2ee8fa50-545b-4de2-9b26-6af401c46ede___JR_Sept.L.S 2696.JPG',\n",
              " '4c245d49-912e-4521-a1ee-53df9f9a6959___Matt.S_CG 6295.JPG',\n",
              " '6fedc093-cd0a-4aae-8a93-aa9fea75bf6c___Keller.St_CG 1947.JPG',\n",
              " '6ff464c8-6ac2-451e-99e4-6135aecf869d___JR_Sept.L.S 8392.JPG',\n",
              " '4f59ff40-d287-4620-b9b2-d62bf49ae0bf___JR_Sept.L.S 8367.JPG',\n",
              " '8c8912bd-b691-492e-9a41-3df02195e544___Matt.S_CG 2583.JPG',\n",
              " '5e94a35b-bce1-4db7-a31d-86a73847e4c2___Matt.S_CG 1065.JPG',\n",
              " '4c764c63-9353-46cc-9afb-08de31110043___Matt.S_CG 7535.JPG']"
            ]
          },
          "metadata": {},
          "execution_count": 15
        }
      ]
    },
    {
      "cell_type": "code",
      "metadata": {
        "id": "jtVQZYSGDRZ9"
      },
      "source": [
        "#Confusion Matrix and Classification Report\n",
        "from sklearn.metrics import classification_report\n",
        "from sklearn.metrics import confusion_matrix"
      ],
      "execution_count": null,
      "outputs": []
    },
    {
      "cell_type": "code",
      "metadata": {
        "id": "gd9bHri6G86K"
      },
      "source": [
        "Y_pred = model.predict(train_dataset, test_dataset)\n",
        "y_pred = np.argmax(Y_pred, axis=1)"
      ],
      "execution_count": null,
      "outputs": []
    },
    {
      "cell_type": "code",
      "metadata": {
        "colab": {
          "base_uri": "https://localhost:8080/"
        },
        "id": "E7Pu5PXAT_2N",
        "outputId": "4033407e-fc81-4eac-b4e9-c56659d0add5"
      },
      "source": [
        "y_pred = np.argmax(Y_pred, axis=1)\n",
        "\n",
        "print('Confusion Matrix')\n",
        "print(confusion_matrix(train_dataset.classes, y_pred))\n",
        "\n",
        "print('Classification Report')\n",
        "target_names = ['diseased', 'healthy']\n",
        "print(classification_report(train_dataset.classes, y_pred, target_names=target_names))"
      ],
      "execution_count": null,
      "outputs": [
        {
          "output_type": "stream",
          "name": "stdout",
          "text": [
            "Confusion Matrix\n",
            "[[1118    0]\n",
            " [ 849    0]]\n",
            "Classification Report\n",
            "              precision    recall  f1-score   support\n",
            "\n",
            "    diseased       0.57      1.00      0.72      1118\n",
            "     healthy       0.00      0.00      0.00       849\n",
            "\n",
            "    accuracy                           0.57      1967\n",
            "   macro avg       0.28      0.50      0.36      1967\n",
            "weighted avg       0.32      0.57      0.41      1967\n",
            "\n"
          ]
        },
        {
          "output_type": "stream",
          "name": "stderr",
          "text": [
            "/usr/local/lib/python3.7/dist-packages/sklearn/metrics/_classification.py:1272: UndefinedMetricWarning: Precision and F-score are ill-defined and being set to 0.0 in labels with no predicted samples. Use `zero_division` parameter to control this behavior.\n",
            "  _warn_prf(average, modifier, msg_start, len(result))\n"
          ]
        }
      ]
    },
    {
      "cell_type": "code",
      "metadata": {
        "id": "vSF5s5p2Sq95"
      },
      "source": [
        ""
      ],
      "execution_count": null,
      "outputs": []
    },
    {
      "cell_type": "code",
      "metadata": {
        "id": "mkf6x9iTaPC8"
      },
      "source": [
        "from sklearn import datasets\n",
        "from sklearn.tree import DecisionTreeClassifier\n",
        "from sklearn.model_selection import train_test_split\n",
        "from sklearn.metrics import classification_report, confusion_matrix"
      ],
      "execution_count": null,
      "outputs": []
    },
    {
      "cell_type": "code",
      "metadata": {
        "id": "S3yVfzoqcbcW"
      },
      "source": [
        "X_train, X_test, y_train, y_test = train_test_split(X, y, test_size=0.30)\n",
        "\n",
        "X_train_dataset, X_test_dataset, y_test "
      ],
      "execution_count": null,
      "outputs": []
    }
  ]
}