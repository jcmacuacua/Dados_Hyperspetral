{
  "nbformat": 4,
  "nbformat_minor": 0,
  "metadata": {
    "colab": {
      "provenance": [],
      "authorship_tag": "ABX9TyMB1Q+Asiu7PdHWN2cJLQwn",
      "include_colab_link": true
    },
    "kernelspec": {
      "name": "python3",
      "display_name": "Python 3"
    },
    "language_info": {
      "name": "python"
    }
  },
  "cells": [
    {
      "cell_type": "markdown",
      "metadata": {
        "id": "view-in-github",
        "colab_type": "text"
      },
      "source": [
        "<a href=\"https://colab.research.google.com/github/jcmacuacua/Dados_Hyperspetral/blob/main/Texto_usando_PCA.ipynb\" target=\"_parent\"><img src=\"https://colab.research.google.com/assets/colab-badge.svg\" alt=\"Open In Colab\"/></a>"
      ]
    },
    {
      "cell_type": "code",
      "execution_count": 6,
      "metadata": {
        "colab": {
          "base_uri": "https://localhost:8080/"
        },
        "id": "1pmPwktyWGrl",
        "outputId": "358b6e25-f65b-43e7-ac9e-c141c7da396b"
      },
      "outputs": [
        {
          "output_type": "stream",
          "name": "stdout",
          "text": [
            "Documento 1: [3.07774707e-16 8.16496581e-01]\n",
            "Documento 2: [ 0.70710678 -0.40824829]\n",
            "Documento 3: [-0.70710678 -0.40824829]\n"
          ]
        }
      ],
      "source": [
        "from sklearn.feature_extraction.text import TfidfVectorizer\n",
        "from sklearn.decomposition import PCA\n",
        "import numpy as np\n",
        "\n",
        "# Exemplo de corpus de documentos\n",
        "corpus = [\n",
        "    \"O rato roeu a roupa do rei de Roma\",\n",
        "    \"Quem com ferro fere, com ferro será ferido\",\n",
        "    \"Água mole em pedra dura tanto bate até que fura\"\n",
        "]\n",
        "\n",
        "# Vetoriza os documentos usando TF-IDF\n",
        "vectorizer = TfidfVectorizer()\n",
        "X = vectorizer.fit_transform(corpus)\n",
        "\n",
        "# Aplica PCA para reduzir a dimensionalidade\n",
        "pca = PCA(n_components=2)\n",
        "X_reduced = pca.fit_transform(X.toarray())\n",
        "\n",
        "# Mostra a representação reduzida de cada documento\n",
        "for i, doc in enumerate(corpus):\n",
        "    print(f\"Documento {i+1}: {X_reduced[i]}\")"
      ]
    },
    {
      "cell_type": "code",
      "source": [
        "import matplotlib.pyplot as plt\n",
        "\n",
        "# Plota os documentos no espaço reduzido de duas dimensões\n",
        "plt.scatter(X_reduced[:, 0], X_reduced[:, 1])\n",
        "\n",
        "# Adiciona rótulos aos pontos de dados correspondentes aos documentos\n",
        "for i, txt in enumerate(corpus):\n",
        "    plt.annotate(txt, (X_reduced[i, 0], X_reduced[i, 1]))\n",
        "\n",
        "# Mostra o gráfico\n",
        "plt.show()"
      ],
      "metadata": {
        "colab": {
          "base_uri": "https://localhost:8080/",
          "height": 265
        },
        "id": "7C87TGwqWPGL",
        "outputId": "e1991501-f566-49a0-969b-3b8bc3d605e0"
      },
      "execution_count": 7,
      "outputs": [
        {
          "output_type": "display_data",
          "data": {
            "text/plain": [
              "<Figure size 432x288 with 1 Axes>"
            ],
            "image/png": "[encoded data removed]"
          },
          "metadata": {
            "needs_background": "light"
          }
        }
      ]
    },
    {
      "cell_type": "code",
      "source": [
        "!pip install transformers\n",
        "!pip install sklearn"
      ],
      "metadata": {
        "id": "L8ku5OeUXmM6"
      },
      "execution_count": null,
      "outputs": []
    },
    {
      "cell_type": "code",
      "source": [
        "!pip install torch"
      ],
      "metadata": {
        "colab": {
          "base_uri": "https://localhost:8080/"
        },
        "id": "5vjlB9uFYlGu",
        "outputId": "ac7beeea-917b-41be-dfb2-5025693d23a4"
      },
      "execution_count": 3,
      "outputs": [
        {
          "output_type": "stream",
          "name": "stdout",
          "text": [
            "Looking in indexes: https://pypi.org/simple, https://us-python.pkg.dev/colab-wheels/public/simple/\n",
            "Requirement already satisfied: torch in /usr/local/lib/python3.9/dist-packages (1.13.1+cu116)\n",
            "Requirement already satisfied: typing-extensions in /usr/local/lib/python3.9/dist-packages (from torch) (4.5.0)\n"
          ]
        }
      ]
    },
    {
      "cell_type": "code",
      "source": [
        "import numpy as np\n",
        "import torch\n",
        "from transformers import AutoTokenizer, AutoModel\n",
        "from sklearn.decomposition import PCA\n",
        "import matplotlib.pyplot as plt\n",
        "\n",
        "# Escreva o texto de entrada\n",
        "texto = \"O gato preto cruzou a rua\"\n",
        "\n",
        "# Carregue o modelo BERT e o tokenizer correspondente\n",
        "modelo = AutoModel.from_pretrained(\"neuralmind/bert-base-portuguese-cased\")\n",
        "tokenizer = AutoTokenizer.from_pretrained(\"neuralmind/bert-base-portuguese-cased\")\n",
        "\n",
        "# Converta o texto em tokens e adicione tokens especiais (CLS e SEP)\n",
        "tokens = tokenizer.encode(texto, add_special_tokens=True)\n",
        "\n",
        "# Obtenha as representações vetoriais para cada token\n",
        "#representacoes, _ = modelo(torch.Tensor([tokens])).last_hidden_state.split(1, dim=1)\n",
        "#representacoes = representacoes.squeeze().detach().numpy()\n",
        "\n",
        "\n",
        "#tokens_tensor = torch.tensor(tokens).unsqueeze(0)  # Converta para um tensor e adicione uma dimensão adicional\n",
        "#representacoes, _ = modelo(tokens_tensor).last_hidden_state.split(1, dim=1)\n",
        "#representacoes = representacoes.squeeze().detach().numpy()\n",
        "#representacoes = modelo(torch.Tensor([tokens])).last_hidden_state.split(1, dim=1)[0]\n",
        "#representacoes = representacoes.squeeze().detach().numpy()\n",
        "saida = modelo(tokens_tensor)\n",
        "representacoes = saida.last_hidden_state.squeeze(0).detach().numpy()\n",
        "\n",
        "#tokens_tensor = torch.tensor(tokens).unsqueeze(0).long()  # Converte para um tensor Long e adiciona uma dimensão adicional\n",
        "#representacoes, _ = modelo(tokens_tensor).last_hidden_state.split(1, dim=1)\n",
        "#representacoes = representacoes.squeeze().detach().numpy()\n",
        "\n",
        "\n",
        "\n",
        "# Use PCA para reduzir as dimensões dos vetores para 2\n",
        "pca = PCA(n_components=2)\n",
        "pca_resultados = pca.fit_transform(representacoes)\n",
        "\n",
        "# Plote os resultados\n",
        "plt.scatter(pca_resultados[:, 0], pca_resultados[:, 1])\n",
        "for i, token in enumerate(tokenizer.convert_ids_to_tokens(tokens)):\n",
        "    plt.annotate(token, xy=(pca_resultados[i, 0], pca_resultados[i, 1]))\n",
        "plt.show()\n"
      ],
      "metadata": {
        "id": "zkhhu6sYXjsB"
      },
      "execution_count": null,
      "outputs": []
    },
    {
      "cell_type": "code",
      "source": [
        "import torch\n",
        "\n",
        "# Example input tensor\n",
        "input_tensor = torch.tensor([[1.0, 2.0], [3.0, 4.0]])\n",
        "\n",
        "# Convert to torch.LongTensor\n",
        "indices = input_tensor.long()\n",
        "\n",
        "# Or convert to torch.IntTensor\n",
        "# indices = input_tensor.int()\n",
        "\n",
        "# Embedding layer\n",
        "embedding_layer = torch.nn.Embedding(10, 3)\n",
        "\n",
        "# Apply the embedding layer with the converted indices\n",
        "output = embedding_layer(indices)\n",
        "\n",
        "print(output)"
      ],
      "metadata": {
        "colab": {
          "base_uri": "https://localhost:8080/"
        },
        "id": "PlybL6pVc-ZN",
        "outputId": "8efd08dd-688d-4082-d069-faead3a8ad2d"
      },
      "execution_count": 22,
      "outputs": [
        {
          "output_type": "stream",
          "name": "stdout",
          "text": [
            "tensor([[[ 1.8869,  0.1908,  1.7310],\n",
            "         [ 0.7886,  1.7336, -0.8963]],\n",
            "\n",
            "        [[-1.6534,  0.3216, -0.2975],\n",
            "         [-0.3602,  0.5033,  2.0535]]], grad_fn=<EmbeddingBackward0>)\n"
          ]
        }
      ]
    },
    {
      "cell_type": "markdown",
      "source": [
        "#Exemplo de código que utiliza o CountVectorizer para transformar um corpus de texto em uma matriz de recursos e, em seguida, realiza a análise de componentes principais (PCA) para reduzir a dimensionalidade dos recursos extraídos para apenas dois componentes, que são exibidos em um gráfico de dispersão.\n"
      ],
      "metadata": {
        "id": "oZ1fgbLjXQc3"
      }
    },
    {
      "cell_type": "code",
      "source": [
        "!pip install unidecode"
      ],
      "metadata": {
        "colab": {
          "base_uri": "https://localhost:8080/"
        },
        "id": "UsqgF2HeZg5J",
        "outputId": "8cbddf1f-b819-4361-ae7f-cabb3251ace1"
      },
      "execution_count": 14,
      "outputs": [
        {
          "output_type": "stream",
          "name": "stdout",
          "text": [
            "Looking in indexes: https://pypi.org/simple, https://us-python.pkg.dev/colab-wheels/public/simple/\n",
            "Requirement already satisfied: unidecode in /usr/local/lib/python3.9/dist-packages (1.3.6)\n"
          ]
        }
      ]
    },
    {
      "cell_type": "code",
      "source": [
        "import nltk\n",
        "nltk.download('punkt')\n",
        "nltk.download('stopwords')"
      ],
      "metadata": {
        "colab": {
          "base_uri": "https://localhost:8080/"
        },
        "id": "qAnCcb6ZZ9JT",
        "outputId": "60a70ace-aa15-4292-9ec6-e1dcb81b332a"
      },
      "execution_count": 15,
      "outputs": [
        {
          "output_type": "stream",
          "name": "stderr",
          "text": [
            "[nltk_data] Downloading package punkt to /root/nltk_data...\n",
            "[nltk_data]   Unzipping tokenizers/punkt.zip.\n",
            "[nltk_data] Downloading package stopwords to /root/nltk_data...\n",
            "[nltk_data]   Unzipping corpora/stopwords.zip.\n"
          ]
        },
        {
          "output_type": "execute_result",
          "data": {
            "text/plain": [
              "True"
            ]
          },
          "metadata": {},
          "execution_count": 15
        }
      ]
    },
    {
      "cell_type": "code",
      "source": [
        "import re\n",
        "import numpy as np\n",
        "from unidecode import unidecode\n",
        "import matplotlib.pyplot as plt\n",
        "from sklearn.decomposition import PCA\n",
        "from sklearn.feature_extraction.text import CountVectorizer"
      ],
      "metadata": {
        "id": "SkVLUiYmXO-_"
      },
      "execution_count": 11,
      "outputs": []
    },
    {
      "cell_type": "code",
      "source": [
        "sentences = [\n",
        "    \"A educação é o processo de facilitar o aprendizado\",\n",
        "    \"A educação é o processo de aquisição de conhecimentos, habilidades, valores, crenças e hábitos\",\n",
        "    \"A educação é uma prática social que visa o desenvolvimento do ser humano, de suas potencialidades, habilidades e competências\",\n",
        "    \"Bitcoin é uma criptomoeda descentralizada, sendo um dinheiro eletrônico para, transações ponto a ponto\"\n",
        "]"
      ],
      "metadata": {
        "id": "SvRZyp1cXZmE"
      },
      "execution_count": 16,
      "outputs": []
    },
    {
      "cell_type": "code",
      "source": [
        "sw = nltk.corpus.stopwords.words('portuguese')"
      ],
      "metadata": {
        "id": "32DGwhlbXjmi"
      },
      "execution_count": 17,
      "outputs": []
    },
    {
      "cell_type": "code",
      "source": [
        "def text_clean(raw_text):\n",
        "    # Remover acentos e padronizar em lower\n",
        "    clean_text = unidecode(raw_text.lower())\n",
        "    # Substituir quebras e tabulações por espaços\n",
        "    clean_text = re.sub('[\\n\\t]', \" \", clean_text)\n",
        "    # Manter somente caraceteres alfanumericos\n",
        "    clean_text = re.sub('[^ a-zA-Z]+', \"\", clean_text)\n",
        "    # Remover stopwords e juntar palavras\n",
        "    resultwords = [word for word in clean_text.split() if word not in sw]\n",
        "    clean_sw_text = ' '.join(resultwords)\n",
        "    return(clean_sw_text)"
      ],
      "metadata": {
        "id": "W41edflCXoVa"
      },
      "execution_count": 18,
      "outputs": []
    },
    {
      "cell_type": "code",
      "source": [
        "# Apresentar frases\n",
        "print(sentences)"
      ],
      "metadata": {
        "colab": {
          "base_uri": "https://localhost:8080/"
        },
        "id": "YoIeSpkxdNcw",
        "outputId": "01c4b032-3086-42ef-a293-53be48c73a9d"
      },
      "execution_count": 32,
      "outputs": [
        {
          "output_type": "stream",
          "name": "stdout",
          "text": [
            "['A educação é o processo de facilitar o aprendizado', 'A educação é o processo de aquisição de conhecimentos, habilidades, valores, crenças e hábitos', 'A educação é uma prática social que visa o desenvolvimento do ser humano, de suas potencialidades, habilidades e competências', 'Bitcoin é uma criptomoeda descentralizada, sendo um dinheiro eletrônico para, transações ponto a ponto']\n"
          ]
        }
      ]
    },
    {
      "cell_type": "code",
      "source": [
        "# Aplicar função no texto\n",
        "clean_sentences = []\n",
        "for frase in sentences:\n",
        "    clean_sentences.append(text_clean(frase))\n",
        "\n",
        "\n",
        "# Apresentar frases preprocessadas\n",
        "print(clean_sentences)"
      ],
      "metadata": {
        "colab": {
          "base_uri": "https://localhost:8080/"
        },
        "id": "ykNn4UU0Xr4c",
        "outputId": "efb161ec-4609-4212-fd49-448d96244573"
      },
      "execution_count": 33,
      "outputs": [
        {
          "output_type": "stream",
          "name": "stdout",
          "text": [
            "['educacao processo facilitar aprendizado', 'educacao processo aquisicao conhecimentos habilidades valores crencas habitos', 'educacao pratica social visa desenvolvimento humano potencialidades habilidades competencias', 'bitcoin criptomoeda descentralizada sendo dinheiro eletronico transacoes ponto ponto']\n"
          ]
        }
      ]
    },
    {
      "cell_type": "code",
      "source": [
        "# Create a CountVectorizer object\n",
        "count_v = CountVectorizer()\n",
        "\n",
        "# Fit and transform the text data\n",
        "count_matrix = count_v.fit_transform(clean_sentences)\n",
        "\n",
        "# Get the feature names\n",
        "print('Feature Names: ', count_v.get_feature_names_out())"
      ],
      "metadata": {
        "colab": {
          "base_uri": "https://localhost:8080/"
        },
        "id": "-zM4o0uiammN",
        "outputId": "6b666dfc-d47d-4028-da80-a26f8ddd51f8"
      },
      "execution_count": 34,
      "outputs": [
        {
          "output_type": "stream",
          "name": "stdout",
          "text": [
            "Feature Names:  ['aprendizado' 'aquisicao' 'bitcoin' 'competencias' 'conhecimentos'\n",
            " 'crencas' 'criptomoeda' 'descentralizada' 'desenvolvimento' 'dinheiro'\n",
            " 'educacao' 'eletronico' 'facilitar' 'habilidades' 'habitos' 'humano'\n",
            " 'ponto' 'potencialidades' 'pratica' 'processo' 'sendo' 'social'\n",
            " 'transacoes' 'valores' 'visa']\n"
          ]
        }
      ]
    },
    {
      "cell_type": "code",
      "source": [
        "# Vetorizar Features (transposição)\n",
        "vetPalavras = features.toarray().transpose()\n",
        "\n",
        "# Apresentar vetor\n",
        "print('Vetor:\\n', vetPalavras)"
      ],
      "metadata": {
        "id": "4TBS20_EdtnI"
      },
      "execution_count": null,
      "outputs": []
    },
    {
      "cell_type": "code",
      "source": [
        "# PCA\n",
        "pca = PCA(2)\n",
        "results = pca.fit_transform(vetPalavras)\n",
        "print('PCA:\\n', results)"
      ],
      "metadata": {
        "colab": {
          "base_uri": "https://localhost:8080/"
        },
        "id": "sc5INWMBd188",
        "outputId": "0bf8eb41-9ed7-4144-89df-cfceee1b9c89"
      },
      "execution_count": 36,
      "outputs": [
        {
          "output_type": "stream",
          "name": "stdout",
          "text": [
            "PCA:\n",
            " [[-0.15802193  0.24888848]\n",
            " [-0.36666621  0.67259325]\n",
            " [ 0.81573292 -0.0065171 ]\n",
            " [-0.41706794 -0.69862841]\n",
            " [-0.36666621  0.67259325]\n",
            " [-0.36666621  0.67259325]\n",
            " [ 0.81573292 -0.0065171 ]\n",
            " [ 0.81573292 -0.0065171 ]\n",
            " [-0.41706794 -0.69862841]\n",
            " [ 0.81573292 -0.0065171 ]\n",
            " [-0.95078306  0.2108572 ]\n",
            " [ 0.81573292 -0.0065171 ]\n",
            " [-0.15802193  0.24888848]\n",
            " [-0.78824764 -0.03203322]\n",
            " [-0.36666621  0.67259325]\n",
            " [-0.41706794 -0.69862841]\n",
            " [ 1.62695235 -0.01903226]\n",
            " [-0.41706794 -0.69862841]\n",
            " [-0.41706794 -0.69862841]\n",
            " [-0.52920163  0.91548367]\n",
            " [ 0.81573292 -0.0065171 ]\n",
            " [-0.41706794 -0.69862841]\n",
            " [ 0.81573292 -0.0065171 ]\n",
            " [-0.36666621  0.67259325]\n",
            " [-0.41706794 -0.69862841]]\n"
          ]
        }
      ]
    },
    {
      "cell_type": "code",
      "source": [
        "plt.figure(figsize = (13, 13))\n",
        "plt.scatter(results[:, 0], results[:, 1])\n",
        "size = len(results[:, 0])\n",
        "for i in range(size):\n",
        "  pos = i*5\n",
        "  plt.annotate(\n",
        "    count_v.get_feature_names_out()[i],\n",
        "    (results[i, 0], results[i, 1]),\n",
        "    textcoords=\"offset points\",\n",
        "    xytext=(pos,pos), ha='left')\n",
        "plt.show()"
      ],
      "metadata": {
        "colab": {
          "base_uri": "https://localhost:8080/",
          "height": 825
        },
        "id": "3WdMTDf6eCDR",
        "outputId": "74c21125-8a94-42be-c693-04c18c07708c"
      },
      "execution_count": 39,
      "outputs": [
        {
          "output_type": "display_data",
          "data": {
            "text/plain": [
              "<Figure size 936x936 with 1 Axes>"
            ],
            "image/png": "[encoded data removed]"
          },
          "metadata": {
            "needs_background": "light"
          }
        }
      ]
    }
  ]
}